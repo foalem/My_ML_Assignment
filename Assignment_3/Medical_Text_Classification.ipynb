{
 "cells": [
  {
   "cell_type": "code",
   "execution_count": 3,
   "id": "934827b9",
   "metadata": {
    "executionInfo": {
     "elapsed": 360,
     "status": "ok",
     "timestamp": 1636858497996,
     "user": {
      "displayName": "Patrick Foalem",
      "photoUrl": "https://lh3.googleusercontent.com/a-/AOh14Gi8YMbhu3rjJ3ozoTkESn-LDL1HeqaAmbfamvZVBQ=s64",
      "userId": "02994691659717319524"
     },
     "user_tz": 300
    },
    "id": "934827b9"
   },
   "outputs": [],
   "source": [
    "import pandas as pd\n",
    "import matplotlib.pyplot as plt\n",
    "import numpy as np\n",
    "from sklearn.model_selection import train_test_split\n",
    "from sklearn.svm import SVC\n",
    "from sklearn.preprocessing import StandardScaler\n",
    "from sklearn.naive_bayes import GaussianNB\n",
    "from sklearn.naive_bayes import BernoulliNB\n",
    "from sklearn.linear_model import LogisticRegression\n",
    "from sklearn.svm import LinearSVC\n",
    "from sklearn.neighbors import KNeighborsClassifier\n",
    "from sklearn.metrics import confusion_matrix\n",
    "from sklearn.tree import DecisionTreeClassifier\n",
    "from sklearn.linear_model import Ridge\n",
    "from sklearn.linear_model import Lasso\n",
    "from matplotlib.colors import ListedColormap\n",
    "from sklearn.model_selection import train_test_split\n",
    "from sklearn.model_selection import GridSearchCV\n",
    "from sklearn.model_selection import PredefinedSplit\n",
    "from sklearn.metrics import classification_report\n",
    "from sklearn.preprocessing import MinMaxScaler\n",
    "from sklearn.preprocessing import StandardScaler\n",
    "from sklearn.ensemble import RandomForestClassifier\n",
    "from sklearn.ensemble import RandomForestRegressor\n",
    "from sklearn.linear_model import LinearRegression\n",
    "from sklearn.preprocessing import PolynomialFeatures\n",
    "from sklearn.svm import SVR\n",
    "from sklearn.metrics import accuracy_score\n",
    "from sklearn.metrics import f1_score\n",
    "import re\n",
    "from sklearn.feature_extraction.text import CountVectorizer\n",
    "import collections\n",
    "# from google.colab import drive\n",
    "from random import choice"
   ]
  },
  {
   "cell_type": "markdown",
   "id": "Vdmrlr7YGtBA",
   "metadata": {
    "id": "Vdmrlr7YGtBA"
   },
   "source": [
    "# **Part 1 : data preprocessing**"
   ]
  },
  {
   "cell_type": "code",
   "execution_count": 6,
   "id": "be3072e3",
   "metadata": {
    "executionInfo": {
     "elapsed": 1293,
     "status": "ok",
     "timestamp": 1636858527482,
     "user": {
      "displayName": "Patrick Foalem",
      "photoUrl": "https://lh3.googleusercontent.com/a-/AOh14Gi8YMbhu3rjJ3ozoTkESn-LDL1HeqaAmbfamvZVBQ=s64",
      "userId": "02994691659717319524"
     },
     "user_tz": 300
    },
    "id": "be3072e3"
   },
   "outputs": [],
   "source": [
    "df = pd.read_csv('./Dataset/medical_dataset/train.csv')"
   ]
  },
  {
   "cell_type": "code",
   "execution_count": 7,
   "id": "07404e1d",
   "metadata": {
    "executionInfo": {
     "elapsed": 149,
     "status": "ok",
     "timestamp": 1636858527853,
     "user": {
      "displayName": "Patrick Foalem",
      "photoUrl": "https://lh3.googleusercontent.com/a-/AOh14Gi8YMbhu3rjJ3ozoTkESn-LDL1HeqaAmbfamvZVBQ=s64",
      "userId": "02994691659717319524"
     },
     "user_tz": 300
    },
    "id": "07404e1d"
   },
   "outputs": [],
   "source": [
    "def Data_processing (data):\n",
    "    for i in range(len(data)):\n",
    "        data.iloc[i, 1] = re.sub(r'[^\\w\\s]', ' ', data.iloc[i, 1])\n",
    "#         data.iloc[i, 1] = re.sub(r'[0-9]', '', data.iloc[i, 1])\n",
    "        data.iloc[i, 1] = data.iloc[i, 1].lower()\n",
    "    return data"
   ]
  },
  {
   "cell_type": "code",
   "execution_count": 8,
   "id": "a39b84d5",
   "metadata": {
    "executionInfo": {
     "elapsed": 5155,
     "status": "ok",
     "timestamp": 1636858532860,
     "user": {
      "displayName": "Patrick Foalem",
      "photoUrl": "https://lh3.googleusercontent.com/a-/AOh14Gi8YMbhu3rjJ3ozoTkESn-LDL1HeqaAmbfamvZVBQ=s64",
      "userId": "02994691659717319524"
     },
     "user_tz": 300
    },
    "id": "a39b84d5"
   },
   "outputs": [],
   "source": [
    "data = Data_processing(df)"
   ]
  },
  {
   "cell_type": "code",
   "execution_count": 10,
   "id": "1085214a",
   "metadata": {
    "executionInfo": {
     "elapsed": 139,
     "status": "ok",
     "timestamp": 1636858532862,
     "user": {
      "displayName": "Patrick Foalem",
      "photoUrl": "https://lh3.googleusercontent.com/a-/AOh14Gi8YMbhu3rjJ3ozoTkESn-LDL1HeqaAmbfamvZVBQ=s64",
      "userId": "02994691659717319524"
     },
     "user_tz": 300
    },
    "id": "1085214a"
   },
   "outputs": [],
   "source": [
    "def word_frequency (Data):\n",
    "    Word_frequency = []\n",
    "    for i in range(len(Data)):\n",
    "        frequency = Data.iloc[i, 1].split()\n",
    "        Word_frequency += frequency\n",
    "    top_frequency = Word_frequency\n",
    "    occurrences = collections.Counter(top_frequency)\n",
    "    W,f = zip(*occurrences.most_common(10000))\n",
    "    return W,f"
   ]
  },
  {
   "cell_type": "code",
   "execution_count": 11,
   "id": "86d68a16",
   "metadata": {
    "executionInfo": {
     "elapsed": 1346,
     "status": "ok",
     "timestamp": 1636858534069,
     "user": {
      "displayName": "Patrick Foalem",
      "photoUrl": "https://lh3.googleusercontent.com/a-/AOh14Gi8YMbhu3rjJ3ozoTkESn-LDL1HeqaAmbfamvZVBQ=s64",
      "userId": "02994691659717319524"
     },
     "user_tz": 300
    },
    "id": "86d68a16"
   },
   "outputs": [],
   "source": [
    "word, occurance = word_frequency(data)"
   ]
  },
  {
   "cell_type": "code",
   "execution_count": 12,
   "id": "f36bca1e",
   "metadata": {
    "executionInfo": {
     "elapsed": 73,
     "status": "ok",
     "timestamp": 1636858534069,
     "user": {
      "displayName": "Patrick Foalem",
      "photoUrl": "https://lh3.googleusercontent.com/a-/AOh14Gi8YMbhu3rjJ3ozoTkESn-LDL1HeqaAmbfamvZVBQ=s64",
      "userId": "02994691659717319524"
     },
     "user_tz": 300
    },
    "id": "f36bca1e"
   },
   "outputs": [],
   "source": [
    "Vocabulary = list(zip(word,range(1,10001),occurance))\n",
    "pd.DataFrame(Vocabulary).to_csv('./Dataset/medical_dataset/medical_text-vocab.txt',sep='\\t',header=None,index=False)"
   ]
  },
  {
   "cell_type": "code",
   "execution_count": 13,
   "id": "c03de7fa",
   "metadata": {
    "executionInfo": {
     "elapsed": 72,
     "status": "ok",
     "timestamp": 1636858534070,
     "user": {
      "displayName": "Patrick Foalem",
      "photoUrl": "https://lh3.googleusercontent.com/a-/AOh14Gi8YMbhu3rjJ3ozoTkESn-LDL1HeqaAmbfamvZVBQ=s64",
      "userId": "02994691659717319524"
     },
     "user_tz": 300
    },
    "id": "c03de7fa"
   },
   "outputs": [],
   "source": [
    "def dataset (dfram,word):\n",
    "    for i in range(len(dfram)):\n",
    "        frequency = dfram.iloc[i, 1].split()\n",
    "        for j in range(len(frequency)):\n",
    "            try:\n",
    "                frequency[j] = word.index(frequency[j]) + 1\n",
    "            except ValueError:\n",
    "                frequency[j] = ''\n",
    "        dfram.iloc[i, 1] = ' '.join([str(k) for k in frequency])\n",
    "        dfram.iloc[i,1] = re.sub(r'[^a-zA-Z0-9]', ' ', dfram.iloc[i,1])\n",
    "    return dfram      "
   ]
  },
  {
   "cell_type": "code",
   "execution_count": 15,
   "id": "efce49a7",
   "metadata": {
    "executionInfo": {
     "elapsed": 49543,
     "status": "ok",
     "timestamp": 1636858583548,
     "user": {
      "displayName": "Patrick Foalem",
      "photoUrl": "https://lh3.googleusercontent.com/a-/AOh14Gi8YMbhu3rjJ3ozoTkESn-LDL1HeqaAmbfamvZVBQ=s64",
      "userId": "02994691659717319524"
     },
     "user_tz": 300
    },
    "id": "efce49a7"
   },
   "outputs": [],
   "source": [
    "Train = dataset(data,word)"
   ]
  },
  {
   "cell_type": "code",
   "execution_count": 17,
   "id": "S5L7YUfgf9OK",
   "metadata": {
    "executionInfo": {
     "elapsed": 678,
     "status": "ok",
     "timestamp": 1636858584164,
     "user": {
      "displayName": "Patrick Foalem",
      "photoUrl": "https://lh3.googleusercontent.com/a-/AOh14Gi8YMbhu3rjJ3ozoTkESn-LDL1HeqaAmbfamvZVBQ=s64",
      "userId": "02994691659717319524"
     },
     "user_tz": 300
    },
    "id": "S5L7YUfgf9OK"
   },
   "outputs": [],
   "source": [
    "Train.to_csv('./Dataset/medical_dataset/medical_text-train.txt',sep='\\t',index=False)"
   ]
  },
  {
   "cell_type": "code",
   "execution_count": 18,
   "id": "zZhhnP9t9CuC",
   "metadata": {
    "executionInfo": {
     "elapsed": 42,
     "status": "ok",
     "timestamp": 1636858584164,
     "user": {
      "displayName": "Patrick Foalem",
      "photoUrl": "https://lh3.googleusercontent.com/a-/AOh14Gi8YMbhu3rjJ3ozoTkESn-LDL1HeqaAmbfamvZVBQ=s64",
      "userId": "02994691659717319524"
     },
     "user_tz": 300
    },
    "id": "zZhhnP9t9CuC"
   },
   "outputs": [],
   "source": [
    "df_ = pd.read_csv('./Dataset/medical_dataset/medical_text-train.txt',sep='\\t')"
   ]
  },
  {
   "cell_type": "code",
   "execution_count": 20,
   "id": "7bb3a241",
   "metadata": {
    "executionInfo": {
     "elapsed": 586,
     "status": "ok",
     "timestamp": 1636858584977,
     "user": {
      "displayName": "Patrick Foalem",
      "photoUrl": "https://lh3.googleusercontent.com/a-/AOh14Gi8YMbhu3rjJ3ozoTkESn-LDL1HeqaAmbfamvZVBQ=s64",
      "userId": "02994691659717319524"
     },
     "user_tz": 300
    },
    "id": "7bb3a241"
   },
   "outputs": [],
   "source": [
    "df_V = pd.read_csv('./Dataset/medical_dataset/valid.csv')\n",
    "df_T = pd.read_csv('./Dataset/medical_dataset/test.csv')"
   ]
  },
  {
   "cell_type": "code",
   "execution_count": 21,
   "id": "c82b306e",
   "metadata": {
    "executionInfo": {
     "elapsed": 488,
     "status": "ok",
     "timestamp": 1636858585677,
     "user": {
      "displayName": "Patrick Foalem",
      "photoUrl": "https://lh3.googleusercontent.com/a-/AOh14Gi8YMbhu3rjJ3ozoTkESn-LDL1HeqaAmbfamvZVBQ=s64",
      "userId": "02994691659717319524"
     },
     "user_tz": 300
    },
    "id": "c82b306e"
   },
   "outputs": [],
   "source": [
    "# preprocessing Test and Validation data\n",
    "data_V = Data_processing(df_V)\n",
    "data_T = Data_processing(df_T)"
   ]
  },
  {
   "cell_type": "code",
   "execution_count": 22,
   "id": "3S5WJrcNgwAT",
   "metadata": {
    "executionInfo": {
     "elapsed": 12889,
     "status": "ok",
     "timestamp": 1636858598534,
     "user": {
      "displayName": "Patrick Foalem",
      "photoUrl": "https://lh3.googleusercontent.com/a-/AOh14Gi8YMbhu3rjJ3ozoTkESn-LDL1HeqaAmbfamvZVBQ=s64",
      "userId": "02994691659717319524"
     },
     "user_tz": 300
    },
    "id": "3S5WJrcNgwAT"
   },
   "outputs": [],
   "source": [
    "valid = dataset(data_V,word)\n",
    "test = dataset(data_T,word)"
   ]
  },
  {
   "cell_type": "code",
   "execution_count": 23,
   "id": "a9UdOjwmh0hm",
   "metadata": {
    "executionInfo": {
     "elapsed": 77,
     "status": "ok",
     "timestamp": 1636858598535,
     "user": {
      "displayName": "Patrick Foalem",
      "photoUrl": "https://lh3.googleusercontent.com/a-/AOh14Gi8YMbhu3rjJ3ozoTkESn-LDL1HeqaAmbfamvZVBQ=s64",
      "userId": "02994691659717319524"
     },
     "user_tz": 300
    },
    "id": "a9UdOjwmh0hm"
   },
   "outputs": [],
   "source": [
    "valid.to_csv('./Dataset/medical_dataset/medical_text-valid.txt',sep='\\t',index=False)\n",
    "test.to_csv('./Dataset/medical_dataset/medical_text-test.txt',sep='\\t',index=False)"
   ]
  },
  {
   "cell_type": "code",
   "execution_count": 7,
   "id": "-6AG9YFDSZf9",
   "metadata": {
    "executionInfo": {
     "elapsed": 75,
     "status": "ok",
     "timestamp": 1636858598535,
     "user": {
      "displayName": "Patrick Foalem",
      "photoUrl": "https://lh3.googleusercontent.com/a-/AOh14Gi8YMbhu3rjJ3ozoTkESn-LDL1HeqaAmbfamvZVBQ=s64",
      "userId": "02994691659717319524"
     },
     "user_tz": 300
    },
    "id": "-6AG9YFDSZf9"
   },
   "outputs": [],
   "source": [
    "def bag_of_word(data_text):\n",
    "  mat = np.zeros((len(data_text),10000))\n",
    "  for i in range(len(data_text)):\n",
    "    freq = data_text.iloc[i, 1].split()\n",
    "    for j in range(len(freq)):\n",
    "      mat[i][int(freq[j])-1] = 1\n",
    "  return mat"
   ]
  },
  {
   "cell_type": "code",
   "execution_count": 25,
   "id": "cH3T_A_A5Fhf",
   "metadata": {
    "executionInfo": {
     "elapsed": 74,
     "status": "ok",
     "timestamp": 1636858598536,
     "user": {
      "displayName": "Patrick Foalem",
      "photoUrl": "https://lh3.googleusercontent.com/a-/AOh14Gi8YMbhu3rjJ3ozoTkESn-LDL1HeqaAmbfamvZVBQ=s64",
      "userId": "02994691659717319524"
     },
     "user_tz": 300
    },
    "id": "cH3T_A_A5Fhf"
   },
   "outputs": [],
   "source": [
    "df_text_train = pd.read_csv('./Dataset/medical_dataset/medical_text-train.txt',sep='\\t')\n",
    "df_text_val = pd.read_csv('./Dataset/medical_dataset/medical_text-valid.txt',sep='\\t')\n",
    "df_text_test = pd.read_csv('./Dataset/medical_dataset/medical_text-test.txt',sep='\\t')"
   ]
  },
  {
   "cell_type": "markdown",
   "id": "W0NT6fgcHJUc",
   "metadata": {
    "id": "W0NT6fgcHJUc"
   },
   "source": [
    "# **Part 2: binary bag-of-words (BBoW)**"
   ]
  },
  {
   "cell_type": "code",
   "execution_count": 29,
   "id": "U8Yzbd6W6YES",
   "metadata": {
    "executionInfo": {
     "elapsed": 2384,
     "status": "ok",
     "timestamp": 1636834019590,
     "user": {
      "displayName": "Patrick Foalem",
      "photoUrl": "https://lh3.googleusercontent.com/a-/AOh14Gi8YMbhu3rjJ3ozoTkESn-LDL1HeqaAmbfamvZVBQ=s64",
      "userId": "02994691659717319524"
     },
     "user_tz": 300
    },
    "id": "U8Yzbd6W6YES"
   },
   "outputs": [],
   "source": [
    "trainnig_data = bag_of_word(df_text_train)\n",
    "validation_data = bag_of_word(df_text_val)\n",
    "test_data = bag_of_word(df_text_test)"
   ]
  },
  {
   "cell_type": "code",
   "execution_count": 30,
   "id": "aWPbVHIRxSsd",
   "metadata": {
    "colab": {
     "base_uri": "https://localhost:8080/"
    },
    "executionInfo": {
     "elapsed": 152,
     "status": "ok",
     "timestamp": 1636834019592,
     "user": {
      "displayName": "Patrick Foalem",
      "photoUrl": "https://lh3.googleusercontent.com/a-/AOh14Gi8YMbhu3rjJ3ozoTkESn-LDL1HeqaAmbfamvZVBQ=s64",
      "userId": "02994691659717319524"
     },
     "user_tz": 300
    },
    "id": "aWPbVHIRxSsd",
    "outputId": "393162f8-b58e-4145-9177-bedbcf9ab2ef"
   },
   "outputs": [
    {
     "data": {
      "text/plain": [
       "(4000, 10000)"
      ]
     },
     "execution_count": 30,
     "metadata": {},
     "output_type": "execute_result"
    }
   ],
   "source": [
    "trainnig_data.shape"
   ]
  },
  {
   "cell_type": "markdown",
   "id": "mTzk1RWRYwPU",
   "metadata": {
    "id": "mTzk1RWRYwPU"
   },
   "source": [
    "# **2.a**"
   ]
  },
  {
   "cell_type": "code",
   "execution_count": 31,
   "id": "uRrfIcyDa_RJ",
   "metadata": {
    "executionInfo": {
     "elapsed": 129,
     "status": "ok",
     "timestamp": 1636834019593,
     "user": {
      "displayName": "Patrick Foalem",
      "photoUrl": "https://lh3.googleusercontent.com/a-/AOh14Gi8YMbhu3rjJ3ozoTkESn-LDL1HeqaAmbfamvZVBQ=s64",
      "userId": "02994691659717319524"
     },
     "user_tz": 300
    },
    "id": "uRrfIcyDa_RJ"
   },
   "outputs": [],
   "source": [
    "def random_class(review):\n",
    "  class_array = np.zeros(review.shape)\n",
    "  sequence = [1,2,3,4]\n",
    "  for i in range(len(class_array)):\n",
    "    class_array[i] =  choice(sequence)\n",
    "  return class_array"
   ]
  },
  {
   "cell_type": "code",
   "execution_count": 32,
   "id": "P-3LAJVOoH2g",
   "metadata": {
    "colab": {
     "base_uri": "https://localhost:8080/"
    },
    "executionInfo": {
     "elapsed": 129,
     "status": "ok",
     "timestamp": 1636834019595,
     "user": {
      "displayName": "Patrick Foalem",
      "photoUrl": "https://lh3.googleusercontent.com/a-/AOh14Gi8YMbhu3rjJ3ozoTkESn-LDL1HeqaAmbfamvZVBQ=s64",
      "userId": "02994691659717319524"
     },
     "user_tz": 300
    },
    "id": "P-3LAJVOoH2g",
    "outputId": "9f8a6b9d-23cd-4dba-9758-c295ec65b28d"
   },
   "outputs": [
    {
     "name": "stdout",
     "output_type": "stream",
     "text": [
      "Random classifier F1-score :  0.25428007921921786\n"
     ]
    }
   ],
   "source": [
    "print(\"Random classifier F1-score : \", f1_score(list(df_text_test.iloc[:,0]),list(map(int, random_class(df_text_test.iloc[:,0]))), average='weighted' ))"
   ]
  },
  {
   "cell_type": "code",
   "execution_count": 33,
   "id": "82i_IqM3urbX",
   "metadata": {
    "executionInfo": {
     "elapsed": 125,
     "status": "ok",
     "timestamp": 1636834019596,
     "user": {
      "displayName": "Patrick Foalem",
      "photoUrl": "https://lh3.googleusercontent.com/a-/AOh14Gi8YMbhu3rjJ3ozoTkESn-LDL1HeqaAmbfamvZVBQ=s64",
      "userId": "02994691659717319524"
     },
     "user_tz": 300
    },
    "id": "82i_IqM3urbX"
   },
   "outputs": [],
   "source": [
    "def majority_class(review):\n",
    "  class_array = np.zeros(review.shape)\n",
    "  major = collections.Counter(review)\n",
    "  array = np.full(len(review), major.most_common(1)[0][0])\n",
    "  return array"
   ]
  },
  {
   "cell_type": "code",
   "execution_count": 34,
   "id": "Q6GjPhBy4E0q",
   "metadata": {
    "colab": {
     "base_uri": "https://localhost:8080/"
    },
    "executionInfo": {
     "elapsed": 124,
     "status": "ok",
     "timestamp": 1636834019596,
     "user": {
      "displayName": "Patrick Foalem",
      "photoUrl": "https://lh3.googleusercontent.com/a-/AOh14Gi8YMbhu3rjJ3ozoTkESn-LDL1HeqaAmbfamvZVBQ=s64",
      "userId": "02994691659717319524"
     },
     "user_tz": 300
    },
    "id": "Q6GjPhBy4E0q",
    "outputId": "18906445-f1ab-4ba7-d388-f4bc2a06cf7f"
   },
   "outputs": [
    {
     "name": "stdout",
     "output_type": "stream",
     "text": [
      "Majority classifier F1-score :  0.22466475644699144\n"
     ]
    }
   ],
   "source": [
    "print(\"Majority classifier F1-score : \", f1_score(list(df_text_test.iloc[:,0]),list(majority_class(df_text_test.iloc[:,0])), average='weighted' ))"
   ]
  },
  {
   "cell_type": "markdown",
   "id": "lTBBlCoC7SbM",
   "metadata": {
    "id": "lTBBlCoC7SbM"
   },
   "source": [
    "# **2.b**"
   ]
  },
  {
   "cell_type": "code",
   "execution_count": 35,
   "id": "eVf6kQh-QVpb",
   "metadata": {
    "colab": {
     "base_uri": "https://localhost:8080/"
    },
    "executionInfo": {
     "elapsed": 769,
     "status": "ok",
     "timestamp": 1636834020248,
     "user": {
      "displayName": "Patrick Foalem",
      "photoUrl": "https://lh3.googleusercontent.com/a-/AOh14Gi8YMbhu3rjJ3ozoTkESn-LDL1HeqaAmbfamvZVBQ=s64",
      "userId": "02994691659717319524"
     },
     "user_tz": 300
    },
    "id": "eVf6kQh-QVpb",
    "outputId": "cdbe0c7c-374c-471f-a273-6a774b3157ec"
   },
   "outputs": [
    {
     "data": {
      "text/plain": [
       "(4499, 10000)"
      ]
     },
     "execution_count": 35,
     "metadata": {},
     "output_type": "execute_result"
    }
   ],
   "source": [
    "All_data_X = np.vstack((trainnig_data,validation_data))\n",
    "All_data_X.shape"
   ]
  },
  {
   "cell_type": "code",
   "execution_count": 36,
   "id": "dSsvuah9GD9T",
   "metadata": {
    "executionInfo": {
     "elapsed": 74,
     "status": "ok",
     "timestamp": 1636834020249,
     "user": {
      "displayName": "Patrick Foalem",
      "photoUrl": "https://lh3.googleusercontent.com/a-/AOh14Gi8YMbhu3rjJ3ozoTkESn-LDL1HeqaAmbfamvZVBQ=s64",
      "userId": "02994691659717319524"
     },
     "user_tz": 300
    },
    "id": "dSsvuah9GD9T"
   },
   "outputs": [],
   "source": [
    "split_index = [-1 for _ in range(trainnig_data.shape[0])] + [0 for _ in range(validation_data.shape[0])]"
   ]
  },
  {
   "cell_type": "code",
   "execution_count": 37,
   "id": "e_Gew0SaSyLN",
   "metadata": {
    "executionInfo": {
     "elapsed": 74,
     "status": "ok",
     "timestamp": 1636834020250,
     "user": {
      "displayName": "Patrick Foalem",
      "photoUrl": "https://lh3.googleusercontent.com/a-/AOh14Gi8YMbhu3rjJ3ozoTkESn-LDL1HeqaAmbfamvZVBQ=s64",
      "userId": "02994691659717319524"
     },
     "user_tz": 300
    },
    "id": "e_Gew0SaSyLN"
   },
   "outputs": [],
   "source": [
    "All_data_Y = np.concatenate((df_.iloc[:,0].values, df_V.iloc[:,0].values))"
   ]
  },
  {
   "cell_type": "code",
   "execution_count": 38,
   "id": "xGsmX5gU7Y1G",
   "metadata": {
    "executionInfo": {
     "elapsed": 75,
     "status": "ok",
     "timestamp": 1636834020251,
     "user": {
      "displayName": "Patrick Foalem",
      "photoUrl": "https://lh3.googleusercontent.com/a-/AOh14Gi8YMbhu3rjJ3ozoTkESn-LDL1HeqaAmbfamvZVBQ=s64",
      "userId": "02994691659717319524"
     },
     "user_tz": 300
    },
    "id": "xGsmX5gU7Y1G"
   },
   "outputs": [],
   "source": [
    "def grid_search (model, parameter, x_train, y_train, ps ):\n",
    "  grid = GridSearchCV(model, parameter, cv= ps, scoring = 'f1_macro',return_train_score=True)\n",
    "  grid.fit(x_train, y_train)\n",
    "  return grid"
   ]
  },
  {
   "cell_type": "code",
   "execution_count": 39,
   "id": "F_NOjrELXHMW",
   "metadata": {
    "executionInfo": {
     "elapsed": 19079,
     "status": "ok",
     "timestamp": 1636834039256,
     "user": {
      "displayName": "Patrick Foalem",
      "photoUrl": "https://lh3.googleusercontent.com/a-/AOh14Gi8YMbhu3rjJ3ozoTkESn-LDL1HeqaAmbfamvZVBQ=s64",
      "userId": "02994691659717319524"
     },
     "user_tz": 300
    },
    "id": "F_NOjrELXHMW"
   },
   "outputs": [],
   "source": [
    "parameter_NB = {\n",
    "    'alpha': np.logspace(-4,0,20)\n",
    "}\n",
    "ps = PredefinedSplit(test_fold=split_index)\n",
    "bnb_bbof = grid_search(BernoulliNB(), parameter_NB, All_data_X, All_data_Y, ps )"
   ]
  },
  {
   "cell_type": "code",
   "execution_count": 40,
   "id": "21IFFJuAap7l",
   "metadata": {
    "colab": {
     "base_uri": "https://localhost:8080/"
    },
    "executionInfo": {
     "elapsed": 133,
     "status": "ok",
     "timestamp": 1636834039258,
     "user": {
      "displayName": "Patrick Foalem",
      "photoUrl": "https://lh3.googleusercontent.com/a-/AOh14Gi8YMbhu3rjJ3ozoTkESn-LDL1HeqaAmbfamvZVBQ=s64",
      "userId": "02994691659717319524"
     },
     "user_tz": 300
    },
    "id": "21IFFJuAap7l",
    "outputId": "eb4d9f14-40e0-476b-ab75-d639fbdd9d64"
   },
   "outputs": [
    {
     "data": {
      "text/plain": [
       "array([1.00000000e-04, 1.83298071e-04, 3.35981829e-04, 6.15848211e-04,\n",
       "       1.12883789e-03, 2.06913808e-03, 3.79269019e-03, 6.95192796e-03,\n",
       "       1.27427499e-02, 2.33572147e-02, 4.28133240e-02, 7.84759970e-02,\n",
       "       1.43844989e-01, 2.63665090e-01, 4.83293024e-01, 8.85866790e-01,\n",
       "       1.62377674e+00, 2.97635144e+00, 5.45559478e+00, 1.00000000e+01])"
      ]
     },
     "execution_count": 40,
     "metadata": {},
     "output_type": "execute_result"
    }
   ],
   "source": [
    "np.logspace(-4,1,20)"
   ]
  },
  {
   "cell_type": "code",
   "execution_count": 42,
   "id": "0N6oZSKGWKuX",
   "metadata": {
    "colab": {
     "base_uri": "https://localhost:8080/"
    },
    "executionInfo": {
     "elapsed": 109,
     "status": "ok",
     "timestamp": 1636834039261,
     "user": {
      "displayName": "Patrick Foalem",
      "photoUrl": "https://lh3.googleusercontent.com/a-/AOh14Gi8YMbhu3rjJ3ozoTkESn-LDL1HeqaAmbfamvZVBQ=s64",
      "userId": "02994691659717319524"
     },
     "user_tz": 300
    },
    "id": "0N6oZSKGWKuX",
    "outputId": "7acb1a32-2858-4d5e-d481-0f0fb41b57c3"
   },
   "outputs": [
    {
     "name": "stdout",
     "output_type": "stream",
     "text": [
      "Best Parameter for Bernoulli naive bayes :  {'alpha': 1.0}\n"
     ]
    }
   ],
   "source": [
    "print('Best Parameter for Bernoulli naive bayes : ', bnb_bbof.best_params_) "
   ]
  },
  {
   "cell_type": "code",
   "execution_count": 43,
   "id": "pHhT2tSPjev6",
   "metadata": {
    "executionInfo": {
     "elapsed": 788,
     "status": "ok",
     "timestamp": 1636834039950,
     "user": {
      "displayName": "Patrick Foalem",
      "photoUrl": "https://lh3.googleusercontent.com/a-/AOh14Gi8YMbhu3rjJ3ozoTkESn-LDL1HeqaAmbfamvZVBQ=s64",
      "userId": "02994691659717319524"
     },
     "user_tz": 300
    },
    "id": "pHhT2tSPjev6"
   },
   "outputs": [],
   "source": [
    "y_pred = bnb_bbof.predict(trainnig_data)\n",
    "y_pred_val = bnb_bbof.predict(validation_data)\n",
    "y_pred_test = bnb_bbof.predict(test_data)"
   ]
  },
  {
   "cell_type": "code",
   "execution_count": 44,
   "id": "pJNlo77kkFjl",
   "metadata": {
    "colab": {
     "base_uri": "https://localhost:8080/"
    },
    "executionInfo": {
     "elapsed": 110,
     "status": "ok",
     "timestamp": 1636834039951,
     "user": {
      "displayName": "Patrick Foalem",
      "photoUrl": "https://lh3.googleusercontent.com/a-/AOh14Gi8YMbhu3rjJ3ozoTkESn-LDL1HeqaAmbfamvZVBQ=s64",
      "userId": "02994691659717319524"
     },
     "user_tz": 300
    },
    "id": "pJNlo77kkFjl",
    "outputId": "ed5b6db2-3951-4fcb-a141-7057abd93714"
   },
   "outputs": [
    {
     "name": "stdout",
     "output_type": "stream",
     "text": [
      "Training f1-score\n",
      "Bernoulli naive bayes training f1-score for best alpha :  0.5317516944078564\n"
     ]
    }
   ],
   "source": [
    "print(\"Training f1-score\")\n",
    "print(\"Bernoulli naive bayes training f1-score for best alpha : \", f1_score(df_.iloc[:,0].values,y_pred, average='macro'))"
   ]
  },
  {
   "cell_type": "code",
   "execution_count": 45,
   "id": "rCZhuGXsmptt",
   "metadata": {
    "colab": {
     "base_uri": "https://localhost:8080/"
    },
    "executionInfo": {
     "elapsed": 101,
     "status": "ok",
     "timestamp": 1636834039952,
     "user": {
      "displayName": "Patrick Foalem",
      "photoUrl": "https://lh3.googleusercontent.com/a-/AOh14Gi8YMbhu3rjJ3ozoTkESn-LDL1HeqaAmbfamvZVBQ=s64",
      "userId": "02994691659717319524"
     },
     "user_tz": 300
    },
    "id": "rCZhuGXsmptt",
    "outputId": "c8b959b3-263e-4ce5-dbac-e1bfd4a3b8ea"
   },
   "outputs": [
    {
     "name": "stdout",
     "output_type": "stream",
     "text": [
      "Validation f1-score\n",
      "Bernoulli naive bayes validation f1-score :  0.5005554812213722 for alpha =  {'alpha': 1.0}\n"
     ]
    }
   ],
   "source": [
    "print(\"Validation f1-score\")\n",
    "print(\"Bernoulli naive bayes validation f1-score : \", f1_score(df_V.iloc[:,0].values,y_pred_val, average='macro'), \"for alpha = \", bnb_bbof.best_params_)"
   ]
  },
  {
   "cell_type": "code",
   "execution_count": 46,
   "id": "TkEA9V2VoSaC",
   "metadata": {
    "colab": {
     "base_uri": "https://localhost:8080/"
    },
    "executionInfo": {
     "elapsed": 97,
     "status": "ok",
     "timestamp": 1636834039954,
     "user": {
      "displayName": "Patrick Foalem",
      "photoUrl": "https://lh3.googleusercontent.com/a-/AOh14Gi8YMbhu3rjJ3ozoTkESn-LDL1HeqaAmbfamvZVBQ=s64",
      "userId": "02994691659717319524"
     },
     "user_tz": 300
    },
    "id": "TkEA9V2VoSaC",
    "outputId": "1d02757f-0f97-4233-951a-c0bed1b47b07"
   },
   "outputs": [
    {
     "name": "stdout",
     "output_type": "stream",
     "text": [
      "Test f1-score\n",
      "Bernoulli naive bayes test f1-score for best alpha :  0.46048206194712504\n"
     ]
    }
   ],
   "source": [
    "print(\"Test f1-score\")\n",
    "print(\"Bernoulli naive bayes test f1-score for best alpha : \", f1_score(df_T.iloc[:,0].values,y_pred_test, average='macro'))"
   ]
  },
  {
   "cell_type": "code",
   "execution_count": 47,
   "id": "cojkPkPwc232",
   "metadata": {
    "executionInfo": {
     "elapsed": 3528517,
     "status": "ok",
     "timestamp": 1636837568380,
     "user": {
      "displayName": "Patrick Foalem",
      "photoUrl": "https://lh3.googleusercontent.com/a-/AOh14Gi8YMbhu3rjJ3ozoTkESn-LDL1HeqaAmbfamvZVBQ=s64",
      "userId": "02994691659717319524"
     },
     "user_tz": 300
    },
    "id": "cojkPkPwc232"
   },
   "outputs": [],
   "source": [
    "parameter_NB = {\n",
    "    'C': np.logspace(-4,0,20),\n",
    "    'multi_class': ['ovr', 'multinomial'],\n",
    "    'solver': ['newton-cg', 'lbfgs']\n",
    "}\n",
    "ps = PredefinedSplit(test_fold=split_index)\n",
    "bnb_bbof = grid_search(LogisticRegression(penalty='l2',max_iter=1000, dual=False), parameter_NB, All_data_X, All_data_Y, ps )"
   ]
  },
  {
   "cell_type": "code",
   "execution_count": 48,
   "id": "JkjqNxpv9jgW",
   "metadata": {
    "colab": {
     "base_uri": "https://localhost:8080/"
    },
    "executionInfo": {
     "elapsed": 125,
     "status": "ok",
     "timestamp": 1636837568382,
     "user": {
      "displayName": "Patrick Foalem",
      "photoUrl": "https://lh3.googleusercontent.com/a-/AOh14Gi8YMbhu3rjJ3ozoTkESn-LDL1HeqaAmbfamvZVBQ=s64",
      "userId": "02994691659717319524"
     },
     "user_tz": 300
    },
    "id": "JkjqNxpv9jgW",
    "outputId": "76320abd-b380-4905-81a9-b381830e4ffa"
   },
   "outputs": [
    {
     "name": "stdout",
     "output_type": "stream",
     "text": [
      "Best Parameter for Logistic regression :  {'C': 1.0, 'multi_class': 'ovr', 'solver': 'newton-cg'}\n"
     ]
    }
   ],
   "source": [
    "print('Best Parameter for Logistic regression : ', bnb_bbof.best_params_) "
   ]
  },
  {
   "cell_type": "code",
   "execution_count": 49,
   "id": "43bQhMQTytNs",
   "metadata": {
    "executionInfo": {
     "elapsed": 478,
     "status": "ok",
     "timestamp": 1636837568793,
     "user": {
      "displayName": "Patrick Foalem",
      "photoUrl": "https://lh3.googleusercontent.com/a-/AOh14Gi8YMbhu3rjJ3ozoTkESn-LDL1HeqaAmbfamvZVBQ=s64",
      "userId": "02994691659717319524"
     },
     "user_tz": 300
    },
    "id": "43bQhMQTytNs"
   },
   "outputs": [],
   "source": [
    "y_pred = bnb_bbof.predict(trainnig_data)\n",
    "y_pred_val = bnb_bbof.predict(validation_data)\n",
    "y_pred_test = bnb_bbof.predict(test_data)"
   ]
  },
  {
   "cell_type": "code",
   "execution_count": 50,
   "id": "Nb0-Teo7y0L0",
   "metadata": {
    "colab": {
     "base_uri": "https://localhost:8080/"
    },
    "executionInfo": {
     "elapsed": 487,
     "status": "ok",
     "timestamp": 1636837569237,
     "user": {
      "displayName": "Patrick Foalem",
      "photoUrl": "https://lh3.googleusercontent.com/a-/AOh14Gi8YMbhu3rjJ3ozoTkESn-LDL1HeqaAmbfamvZVBQ=s64",
      "userId": "02994691659717319524"
     },
     "user_tz": 300
    },
    "id": "Nb0-Teo7y0L0",
    "outputId": "75774582-e8de-485b-8cf2-f2ceabfeaeee"
   },
   "outputs": [
    {
     "name": "stdout",
     "output_type": "stream",
     "text": [
      "Training f1-score\n",
      "Logistic regression training f1-score for best parameter :  0.8982482873187748\n"
     ]
    }
   ],
   "source": [
    "print(\"Training f1-score\")\n",
    "print(\"Logistic regression training f1-score for best parameter : \", f1_score(df_.iloc[:,0].values,y_pred, average='macro'))"
   ]
  },
  {
   "cell_type": "code",
   "execution_count": 51,
   "id": "eKjH31X_2I1B",
   "metadata": {
    "colab": {
     "base_uri": "https://localhost:8080/"
    },
    "executionInfo": {
     "elapsed": 70,
     "status": "ok",
     "timestamp": 1636837569237,
     "user": {
      "displayName": "Patrick Foalem",
      "photoUrl": "https://lh3.googleusercontent.com/a-/AOh14Gi8YMbhu3rjJ3ozoTkESn-LDL1HeqaAmbfamvZVBQ=s64",
      "userId": "02994691659717319524"
     },
     "user_tz": 300
    },
    "id": "eKjH31X_2I1B",
    "outputId": "e559bea5-5683-4281-8e06-507ba0a55d43"
   },
   "outputs": [
    {
     "name": "stdout",
     "output_type": "stream",
     "text": [
      "Validation f1-score\n",
      "Logistic regression validation f1-score :  0.8951881976476632 for parameter =  {'C': 1.0, 'multi_class': 'ovr', 'solver': 'newton-cg'}\n"
     ]
    }
   ],
   "source": [
    "print(\"Validation f1-score\")\n",
    "print(\"Logistic regression validation f1-score : \", f1_score(df_V.iloc[:,0].values,y_pred_val, average='macro'), \"for parameter = \", bnb_bbof.best_params_)"
   ]
  },
  {
   "cell_type": "code",
   "execution_count": 52,
   "id": "-G-qSUU-2ZCx",
   "metadata": {
    "colab": {
     "base_uri": "https://localhost:8080/"
    },
    "executionInfo": {
     "elapsed": 65,
     "status": "ok",
     "timestamp": 1636837569238,
     "user": {
      "displayName": "Patrick Foalem",
      "photoUrl": "https://lh3.googleusercontent.com/a-/AOh14Gi8YMbhu3rjJ3ozoTkESn-LDL1HeqaAmbfamvZVBQ=s64",
      "userId": "02994691659717319524"
     },
     "user_tz": 300
    },
    "id": "-G-qSUU-2ZCx",
    "outputId": "b66f3f4a-fb7f-4f92-98b4-8208fed764a0"
   },
   "outputs": [
    {
     "name": "stdout",
     "output_type": "stream",
     "text": [
      "Test f1-score\n",
      "Logistic regresssion test f1-score for best parameter :  0.7453697420582956\n"
     ]
    }
   ],
   "source": [
    "print(\"Test f1-score\")\n",
    "print(\"Logistic regresssion test f1-score for best parameter : \", f1_score(df_T.iloc[:,0].values,y_pred_test, average='macro'))"
   ]
  },
  {
   "cell_type": "code",
   "execution_count": 53,
   "id": "LZBT9zt3-DlP",
   "metadata": {
    "colab": {
     "base_uri": "https://localhost:8080/"
    },
    "executionInfo": {
     "elapsed": 379248,
     "status": "ok",
     "timestamp": 1636837948426,
     "user": {
      "displayName": "Patrick Foalem",
      "photoUrl": "https://lh3.googleusercontent.com/a-/AOh14Gi8YMbhu3rjJ3ozoTkESn-LDL1HeqaAmbfamvZVBQ=s64",
      "userId": "02994691659717319524"
     },
     "user_tz": 300
    },
    "id": "LZBT9zt3-DlP",
    "outputId": "90d5b354-5f26-4d1f-847a-63327b352201"
   },
   "outputs": [
    {
     "name": "stderr",
     "output_type": "stream",
     "text": [
      "/usr/local/lib/python3.7/dist-packages/sklearn/svm/_base.py:947: ConvergenceWarning: Liblinear failed to converge, increase the number of iterations.\n",
      "  \"the number of iterations.\", ConvergenceWarning)\n",
      "/usr/local/lib/python3.7/dist-packages/sklearn/svm/_base.py:947: ConvergenceWarning: Liblinear failed to converge, increase the number of iterations.\n",
      "  \"the number of iterations.\", ConvergenceWarning)\n",
      "/usr/local/lib/python3.7/dist-packages/sklearn/svm/_base.py:947: ConvergenceWarning: Liblinear failed to converge, increase the number of iterations.\n",
      "  \"the number of iterations.\", ConvergenceWarning)\n",
      "/usr/local/lib/python3.7/dist-packages/sklearn/svm/_base.py:947: ConvergenceWarning: Liblinear failed to converge, increase the number of iterations.\n",
      "  \"the number of iterations.\", ConvergenceWarning)\n",
      "/usr/local/lib/python3.7/dist-packages/sklearn/svm/_base.py:947: ConvergenceWarning: Liblinear failed to converge, increase the number of iterations.\n",
      "  \"the number of iterations.\", ConvergenceWarning)\n",
      "/usr/local/lib/python3.7/dist-packages/sklearn/svm/_base.py:947: ConvergenceWarning: Liblinear failed to converge, increase the number of iterations.\n",
      "  \"the number of iterations.\", ConvergenceWarning)\n",
      "/usr/local/lib/python3.7/dist-packages/sklearn/svm/_base.py:947: ConvergenceWarning: Liblinear failed to converge, increase the number of iterations.\n",
      "  \"the number of iterations.\", ConvergenceWarning)\n",
      "/usr/local/lib/python3.7/dist-packages/sklearn/svm/_base.py:947: ConvergenceWarning: Liblinear failed to converge, increase the number of iterations.\n",
      "  \"the number of iterations.\", ConvergenceWarning)\n",
      "/usr/local/lib/python3.7/dist-packages/sklearn/svm/_base.py:947: ConvergenceWarning: Liblinear failed to converge, increase the number of iterations.\n",
      "  \"the number of iterations.\", ConvergenceWarning)\n",
      "/usr/local/lib/python3.7/dist-packages/sklearn/svm/_base.py:947: ConvergenceWarning: Liblinear failed to converge, increase the number of iterations.\n",
      "  \"the number of iterations.\", ConvergenceWarning)\n"
     ]
    }
   ],
   "source": [
    "parameter_NB = {\n",
    "    'C': np.logspace(-4,0,20),\n",
    "    'multi_class': ['ovr', 'crammer_singer']\n",
    "}\n",
    "ps = PredefinedSplit(test_fold=split_index)\n",
    "bnb_bbof = grid_search(LinearSVC(penalty='l2', loss='hinge', max_iter=100000), parameter_NB, All_data_X, All_data_Y, ps )"
   ]
  },
  {
   "cell_type": "code",
   "execution_count": 54,
   "id": "sGUJmpIq6mET",
   "metadata": {
    "colab": {
     "base_uri": "https://localhost:8080/"
    },
    "executionInfo": {
     "elapsed": 104,
     "status": "ok",
     "timestamp": 1636837948429,
     "user": {
      "displayName": "Patrick Foalem",
      "photoUrl": "https://lh3.googleusercontent.com/a-/AOh14Gi8YMbhu3rjJ3ozoTkESn-LDL1HeqaAmbfamvZVBQ=s64",
      "userId": "02994691659717319524"
     },
     "user_tz": 300
    },
    "id": "sGUJmpIq6mET",
    "outputId": "37132312-f0c9-42dd-a380-19571005c4d8"
   },
   "outputs": [
    {
     "name": "stdout",
     "output_type": "stream",
     "text": [
      "Best Parameter for support vector machine :  {'C': 0.3792690190732246, 'multi_class': 'ovr'}\n"
     ]
    }
   ],
   "source": [
    "print('Best Parameter for support vector machine : ', bnb_bbof.best_params_) "
   ]
  },
  {
   "cell_type": "code",
   "execution_count": 55,
   "id": "YYkoe_wIAno5",
   "metadata": {
    "executionInfo": {
     "elapsed": 87,
     "status": "ok",
     "timestamp": 1636837948431,
     "user": {
      "displayName": "Patrick Foalem",
      "photoUrl": "https://lh3.googleusercontent.com/a-/AOh14Gi8YMbhu3rjJ3ozoTkESn-LDL1HeqaAmbfamvZVBQ=s64",
      "userId": "02994691659717319524"
     },
     "user_tz": 300
    },
    "id": "YYkoe_wIAno5"
   },
   "outputs": [],
   "source": [
    "y_pred = bnb_bbof.predict(trainnig_data)\n",
    "y_pred_val = bnb_bbof.predict(validation_data)\n",
    "y_pred_test = bnb_bbof.predict(test_data)"
   ]
  },
  {
   "cell_type": "code",
   "execution_count": 56,
   "id": "6YTVBWYN7W7v",
   "metadata": {
    "colab": {
     "base_uri": "https://localhost:8080/"
    },
    "executionInfo": {
     "elapsed": 382,
     "status": "ok",
     "timestamp": 1636837948727,
     "user": {
      "displayName": "Patrick Foalem",
      "photoUrl": "https://lh3.googleusercontent.com/a-/AOh14Gi8YMbhu3rjJ3ozoTkESn-LDL1HeqaAmbfamvZVBQ=s64",
      "userId": "02994691659717319524"
     },
     "user_tz": 300
    },
    "id": "6YTVBWYN7W7v",
    "outputId": "5fcb744b-a855-4036-885c-f800bdbb34e4"
   },
   "outputs": [
    {
     "name": "stdout",
     "output_type": "stream",
     "text": [
      "Training f1-score\n",
      "Support vector machine training f1-score for best parameter :  0.8955751762310216\n"
     ]
    }
   ],
   "source": [
    "print(\"Training f1-score\")\n",
    "print(\"Support vector machine training f1-score for best parameter : \", f1_score(df_.iloc[:,0].values,y_pred, average='macro'))"
   ]
  },
  {
   "cell_type": "code",
   "execution_count": 57,
   "id": "CfyFC7XU7nNL",
   "metadata": {
    "colab": {
     "base_uri": "https://localhost:8080/"
    },
    "executionInfo": {
     "elapsed": 61,
     "status": "ok",
     "timestamp": 1636837948728,
     "user": {
      "displayName": "Patrick Foalem",
      "photoUrl": "https://lh3.googleusercontent.com/a-/AOh14Gi8YMbhu3rjJ3ozoTkESn-LDL1HeqaAmbfamvZVBQ=s64",
      "userId": "02994691659717319524"
     },
     "user_tz": 300
    },
    "id": "CfyFC7XU7nNL",
    "outputId": "716ce438-6af1-4b48-c62a-f9006aa8569b"
   },
   "outputs": [
    {
     "name": "stdout",
     "output_type": "stream",
     "text": [
      "Validation f1-score\n",
      "Support vector machine validation f1-score :  0.8969544976286412 for parameter =  {'C': 0.3792690190732246, 'multi_class': 'ovr'}\n"
     ]
    }
   ],
   "source": [
    "print(\"Validation f1-score\")\n",
    "print(\"Support vector machine validation f1-score : \", f1_score(df_V.iloc[:,0].values,y_pred_val, average='macro'), \"for parameter = \", bnb_bbof.best_params_)"
   ]
  },
  {
   "cell_type": "code",
   "execution_count": 58,
   "id": "jRNUZMKo71lR",
   "metadata": {
    "colab": {
     "base_uri": "https://localhost:8080/"
    },
    "executionInfo": {
     "elapsed": 54,
     "status": "ok",
     "timestamp": 1636837948728,
     "user": {
      "displayName": "Patrick Foalem",
      "photoUrl": "https://lh3.googleusercontent.com/a-/AOh14Gi8YMbhu3rjJ3ozoTkESn-LDL1HeqaAmbfamvZVBQ=s64",
      "userId": "02994691659717319524"
     },
     "user_tz": 300
    },
    "id": "jRNUZMKo71lR",
    "outputId": "4d7e8669-e098-47f3-a1b8-250b2bafa0cc"
   },
   "outputs": [
    {
     "name": "stdout",
     "output_type": "stream",
     "text": [
      "Test f1-score\n",
      "Support vector machine test f1-score for best parameter :  0.7876321083484212\n"
     ]
    }
   ],
   "source": [
    "print(\"Test f1-score\")\n",
    "print(\"Support vector machine test f1-score for best parameter : \", f1_score(df_T.iloc[:,0].values,y_pred_test, average='macro'))"
   ]
  },
  {
   "cell_type": "code",
   "execution_count": 59,
   "id": "GWd5KkT59Ic5",
   "metadata": {
    "executionInfo": {
     "elapsed": 5770,
     "status": "ok",
     "timestamp": 1636837954451,
     "user": {
      "displayName": "Patrick Foalem",
      "photoUrl": "https://lh3.googleusercontent.com/a-/AOh14Gi8YMbhu3rjJ3ozoTkESn-LDL1HeqaAmbfamvZVBQ=s64",
      "userId": "02994691659717319524"
     },
     "user_tz": 300
    },
    "id": "GWd5KkT59Ic5"
   },
   "outputs": [],
   "source": [
    "clf = DecisionTreeClassifier(random_state=0)\n",
    "path = clf.cost_complexity_pruning_path(trainnig_data, df_.iloc[:,0].values)\n",
    "ccp_alphas = path.ccp_alphas"
   ]
  },
  {
   "cell_type": "code",
   "execution_count": 60,
   "id": "SPbpuW4OueE8",
   "metadata": {
    "colab": {
     "base_uri": "https://localhost:8080/"
    },
    "executionInfo": {
     "elapsed": 4847741,
     "status": "ok",
     "timestamp": 1636842802110,
     "user": {
      "displayName": "Patrick Foalem",
      "photoUrl": "https://lh3.googleusercontent.com/a-/AOh14Gi8YMbhu3rjJ3ozoTkESn-LDL1HeqaAmbfamvZVBQ=s64",
      "userId": "02994691659717319524"
     },
     "user_tz": 300
    },
    "id": "SPbpuW4OueE8",
    "outputId": "db960308-265f-40e3-fdb7-2f038a5b66f0"
   },
   "outputs": [
    {
     "name": "stderr",
     "output_type": "stream",
     "text": [
      "/usr/local/lib/python3.7/dist-packages/sklearn/model_selection/_validation.py:536: FitFailedWarning: Estimator fit failed. The score on this train-test partition for these parameters will be set to nan. Details: \n",
      "ValueError: ccp_alpha must be greater than or equal to 0\n",
      "\n",
      "  FitFailedWarning)\n"
     ]
    }
   ],
   "source": [
    "parameter_NB = {\n",
    "    'criterion' : [\"gini\", \"entropy\"],\n",
    "    'ccp_alpha':ccp_alphas\n",
    "}\n",
    "ps = PredefinedSplit(test_fold=split_index)\n",
    "bnb_bbof = grid_search(DecisionTreeClassifier(), parameter_NB, All_data_X, All_data_Y, ps )"
   ]
  },
  {
   "cell_type": "code",
   "execution_count": 61,
   "id": "-NbUREwyui--",
   "metadata": {
    "colab": {
     "base_uri": "https://localhost:8080/"
    },
    "executionInfo": {
     "elapsed": 84,
     "status": "ok",
     "timestamp": 1636842802112,
     "user": {
      "displayName": "Patrick Foalem",
      "photoUrl": "https://lh3.googleusercontent.com/a-/AOh14Gi8YMbhu3rjJ3ozoTkESn-LDL1HeqaAmbfamvZVBQ=s64",
      "userId": "02994691659717319524"
     },
     "user_tz": 300
    },
    "id": "-NbUREwyui--",
    "outputId": "b3110186-d821-4ab6-dcce-94b8b67cbdbf"
   },
   "outputs": [
    {
     "name": "stdout",
     "output_type": "stream",
     "text": [
      "Best Parameter for decision tree :  {'ccp_alpha': 0.0010301801801801801, 'criterion': 'gini'}\n"
     ]
    }
   ],
   "source": [
    "print('Best Parameter for decision tree : ', bnb_bbof.best_params_) "
   ]
  },
  {
   "cell_type": "code",
   "execution_count": 62,
   "id": "ddc27dnlunUa",
   "metadata": {
    "executionInfo": {
     "elapsed": 579,
     "status": "ok",
     "timestamp": 1636842802636,
     "user": {
      "displayName": "Patrick Foalem",
      "photoUrl": "https://lh3.googleusercontent.com/a-/AOh14Gi8YMbhu3rjJ3ozoTkESn-LDL1HeqaAmbfamvZVBQ=s64",
      "userId": "02994691659717319524"
     },
     "user_tz": 300
    },
    "id": "ddc27dnlunUa"
   },
   "outputs": [],
   "source": [
    "y_pred = bnb_bbof.predict(trainnig_data)\n",
    "y_pred_val = bnb_bbof.predict(validation_data)\n",
    "y_pred_test = bnb_bbof.predict(test_data)"
   ]
  },
  {
   "cell_type": "code",
   "execution_count": 63,
   "id": "HMQaNoMuuqsy",
   "metadata": {
    "colab": {
     "base_uri": "https://localhost:8080/"
    },
    "executionInfo": {
     "elapsed": 119,
     "status": "ok",
     "timestamp": 1636842802636,
     "user": {
      "displayName": "Patrick Foalem",
      "photoUrl": "https://lh3.googleusercontent.com/a-/AOh14Gi8YMbhu3rjJ3ozoTkESn-LDL1HeqaAmbfamvZVBQ=s64",
      "userId": "02994691659717319524"
     },
     "user_tz": 300
    },
    "id": "HMQaNoMuuqsy",
    "outputId": "a1558b58-a1d6-4fd8-85c7-55873f32f3d0"
   },
   "outputs": [
    {
     "name": "stdout",
     "output_type": "stream",
     "text": [
      "Training f1-score\n",
      "Decission tree training f1-score for best parameter :  0.8384904413311942\n"
     ]
    }
   ],
   "source": [
    "print(\"Training f1-score\")\n",
    "print(\"Decission tree training f1-score for best parameter : \", f1_score(df_.iloc[:,0].values,y_pred, average='macro'))"
   ]
  },
  {
   "cell_type": "code",
   "execution_count": 64,
   "id": "NrnconMzuwdO",
   "metadata": {
    "colab": {
     "base_uri": "https://localhost:8080/"
    },
    "executionInfo": {
     "elapsed": 106,
     "status": "ok",
     "timestamp": 1636842802637,
     "user": {
      "displayName": "Patrick Foalem",
      "photoUrl": "https://lh3.googleusercontent.com/a-/AOh14Gi8YMbhu3rjJ3ozoTkESn-LDL1HeqaAmbfamvZVBQ=s64",
      "userId": "02994691659717319524"
     },
     "user_tz": 300
    },
    "id": "NrnconMzuwdO",
    "outputId": "1c6caff6-cac3-4d14-ff60-4c098c94df74"
   },
   "outputs": [
    {
     "name": "stdout",
     "output_type": "stream",
     "text": [
      "Validation f1-score\n",
      "Decission tree validation f1-score :  0.8180510230908237 for parameter =  {'ccp_alpha': 0.0010301801801801801, 'criterion': 'gini'}\n"
     ]
    }
   ],
   "source": [
    "print(\"Validation f1-score\")\n",
    "print(\"Decission tree validation f1-score : \", f1_score(df_V.iloc[:,0].values,y_pred_val, average='macro'), \"for parameter = \", bnb_bbof.best_params_)"
   ]
  },
  {
   "cell_type": "code",
   "execution_count": 65,
   "id": "A3U-Ui5pu1v0",
   "metadata": {
    "colab": {
     "base_uri": "https://localhost:8080/"
    },
    "executionInfo": {
     "elapsed": 98,
     "status": "ok",
     "timestamp": 1636842802638,
     "user": {
      "displayName": "Patrick Foalem",
      "photoUrl": "https://lh3.googleusercontent.com/a-/AOh14Gi8YMbhu3rjJ3ozoTkESn-LDL1HeqaAmbfamvZVBQ=s64",
      "userId": "02994691659717319524"
     },
     "user_tz": 300
    },
    "id": "A3U-Ui5pu1v0",
    "outputId": "a8bd10fa-a10c-4005-cbd4-ed7427d7158e"
   },
   "outputs": [
    {
     "name": "stdout",
     "output_type": "stream",
     "text": [
      "Test f1-score\n",
      "Decision tree test f1-score for best parameter :  0.8197983870967742\n"
     ]
    }
   ],
   "source": [
    "print(\"Test f1-score\")\n",
    "print(\"Decision tree test f1-score for best parameter : \", f1_score(df_T.iloc[:,0].values,y_pred_test, average='macro'))"
   ]
  },
  {
   "cell_type": "markdown",
   "id": "21HsRnhxF6ZQ",
   "metadata": {
    "id": "21HsRnhxF6ZQ"
   },
   "source": [
    "# **Part 3 : frequency bag-of-words (FBoW)**"
   ]
  },
  {
   "cell_type": "code",
   "execution_count": 66,
   "id": "fO1ZXE6BmesE",
   "metadata": {
    "executionInfo": {
     "elapsed": 87,
     "status": "ok",
     "timestamp": 1636842802638,
     "user": {
      "displayName": "Patrick Foalem",
      "photoUrl": "https://lh3.googleusercontent.com/a-/AOh14Gi8YMbhu3rjJ3ozoTkESn-LDL1HeqaAmbfamvZVBQ=s64",
      "userId": "02994691659717319524"
     },
     "user_tz": 300
    },
    "id": "fO1ZXE6BmesE"
   },
   "outputs": [],
   "source": [
    "def frequency_bag_of_word(data_text):\n",
    "  matf = np.zeros((len(data_text),10000))\n",
    "  for i in range(len(data_text)):\n",
    "    freqf = data_text.iloc[i, 1].split()\n",
    "    for j in range(len(freqf)):\n",
    "      matf[i][int(freqf[j])-1] = matf[i][int(freqf[j])-1] + 1/len(freqf)\n",
    "  return matf"
   ]
  },
  {
   "cell_type": "code",
   "execution_count": 67,
   "id": "ZZmnXYDgGrwL",
   "metadata": {
    "executionInfo": {
     "elapsed": 87,
     "status": "ok",
     "timestamp": 1636842802639,
     "user": {
      "displayName": "Patrick Foalem",
      "photoUrl": "https://lh3.googleusercontent.com/a-/AOh14Gi8YMbhu3rjJ3ozoTkESn-LDL1HeqaAmbfamvZVBQ=s64",
      "userId": "02994691659717319524"
     },
     "user_tz": 300
    },
    "id": "ZZmnXYDgGrwL"
   },
   "outputs": [],
   "source": [
    "All_data_Y = np.concatenate((df_.iloc[:,0].values, df_V.iloc[:,0].values))"
   ]
  },
  {
   "cell_type": "code",
   "execution_count": 68,
   "id": "hZ2Rsg8xEOls",
   "metadata": {
    "executionInfo": {
     "elapsed": 4266,
     "status": "ok",
     "timestamp": 1636842806821,
     "user": {
      "displayName": "Patrick Foalem",
      "photoUrl": "https://lh3.googleusercontent.com/a-/AOh14Gi8YMbhu3rjJ3ozoTkESn-LDL1HeqaAmbfamvZVBQ=s64",
      "userId": "02994691659717319524"
     },
     "user_tz": 300
    },
    "id": "hZ2Rsg8xEOls"
   },
   "outputs": [],
   "source": [
    "trainnig_data_f = frequency_bag_of_word(df_text_train)\n",
    "validation_data_f = frequency_bag_of_word(df_text_val)\n",
    "test_data_f = frequency_bag_of_word(df_text_test)"
   ]
  },
  {
   "cell_type": "code",
   "execution_count": 69,
   "id": "iNYKJ1P44jf1",
   "metadata": {
    "colab": {
     "base_uri": "https://localhost:8080/"
    },
    "executionInfo": {
     "elapsed": 92,
     "status": "ok",
     "timestamp": 1636842806822,
     "user": {
      "displayName": "Patrick Foalem",
      "photoUrl": "https://lh3.googleusercontent.com/a-/AOh14Gi8YMbhu3rjJ3ozoTkESn-LDL1HeqaAmbfamvZVBQ=s64",
      "userId": "02994691659717319524"
     },
     "user_tz": 300
    },
    "id": "iNYKJ1P44jf1",
    "outputId": "d0556043-d61e-4299-cdce-d2789aab6661"
   },
   "outputs": [
    {
     "data": {
      "text/plain": [
       "array([1., 1., 1., ..., 1., 1., 1.])"
      ]
     },
     "execution_count": 69,
     "metadata": {},
     "output_type": "execute_result"
    }
   ],
   "source": [
    "np.sum(trainnig_data_f, axis=1)   "
   ]
  },
  {
   "cell_type": "code",
   "execution_count": 70,
   "id": "hYIKXgWcLY0d",
   "metadata": {
    "executionInfo": {
     "elapsed": 71,
     "status": "ok",
     "timestamp": 1636842806823,
     "user": {
      "displayName": "Patrick Foalem",
      "photoUrl": "https://lh3.googleusercontent.com/a-/AOh14Gi8YMbhu3rjJ3ozoTkESn-LDL1HeqaAmbfamvZVBQ=s64",
      "userId": "02994691659717319524"
     },
     "user_tz": 300
    },
    "id": "hYIKXgWcLY0d"
   },
   "outputs": [],
   "source": [
    "split_index = [-1 for _ in range(trainnig_data_f.shape[0])] + [0 for _ in range(validation_data_f.shape[0])]"
   ]
  },
  {
   "cell_type": "code",
   "execution_count": 71,
   "id": "G8_sFD9GFXkN",
   "metadata": {
    "colab": {
     "base_uri": "https://localhost:8080/"
    },
    "executionInfo": {
     "elapsed": 71,
     "status": "ok",
     "timestamp": 1636842806824,
     "user": {
      "displayName": "Patrick Foalem",
      "photoUrl": "https://lh3.googleusercontent.com/a-/AOh14Gi8YMbhu3rjJ3ozoTkESn-LDL1HeqaAmbfamvZVBQ=s64",
      "userId": "02994691659717319524"
     },
     "user_tz": 300
    },
    "id": "G8_sFD9GFXkN",
    "outputId": "fe2d411a-3ce5-401c-ad6c-7165ffd9c577"
   },
   "outputs": [
    {
     "data": {
      "text/plain": [
       "(4499, 10000)"
      ]
     },
     "execution_count": 71,
     "metadata": {},
     "output_type": "execute_result"
    }
   ],
   "source": [
    "All_data_X = np.vstack((trainnig_data_f,validation_data_f))\n",
    "All_data_X.shape"
   ]
  },
  {
   "cell_type": "code",
   "execution_count": 72,
   "id": "MqWdDJqZEtxC",
   "metadata": {
    "executionInfo": {
     "elapsed": 32496,
     "status": "ok",
     "timestamp": 1636842839253,
     "user": {
      "displayName": "Patrick Foalem",
      "photoUrl": "https://lh3.googleusercontent.com/a-/AOh14Gi8YMbhu3rjJ3ozoTkESn-LDL1HeqaAmbfamvZVBQ=s64",
      "userId": "02994691659717319524"
     },
     "user_tz": 300
    },
    "id": "MqWdDJqZEtxC"
   },
   "outputs": [],
   "source": [
    "parameter_NB = {\n",
    "    'var_smoothing': np.logspace(-4,0,20)\n",
    "}\n",
    "ps = PredefinedSplit(test_fold=split_index)\n",
    "bnb_bbof = grid_search(GaussianNB(), parameter_NB, All_data_X, All_data_Y, ps )"
   ]
  },
  {
   "cell_type": "code",
   "execution_count": 73,
   "id": "2euDAazwCBMM",
   "metadata": {
    "colab": {
     "base_uri": "https://localhost:8080/"
    },
    "executionInfo": {
     "elapsed": 81,
     "status": "ok",
     "timestamp": 1636842839257,
     "user": {
      "displayName": "Patrick Foalem",
      "photoUrl": "https://lh3.googleusercontent.com/a-/AOh14Gi8YMbhu3rjJ3ozoTkESn-LDL1HeqaAmbfamvZVBQ=s64",
      "userId": "02994691659717319524"
     },
     "user_tz": 300
    },
    "id": "2euDAazwCBMM",
    "outputId": "38fc3499-4294-490a-bb96-9815efa284d7"
   },
   "outputs": [
    {
     "name": "stdout",
     "output_type": "stream",
     "text": [
      "Best Parameter for Gaussian naive bayes :  {'var_smoothing': 0.0011288378916846883}\n"
     ]
    }
   ],
   "source": [
    "print('Best Parameter for Gaussian naive bayes : ', bnb_bbof.best_params_) "
   ]
  },
  {
   "cell_type": "code",
   "execution_count": 74,
   "id": "RacF7xMaETlS",
   "metadata": {
    "executionInfo": {
     "elapsed": 1409,
     "status": "ok",
     "timestamp": 1636842840600,
     "user": {
      "displayName": "Patrick Foalem",
      "photoUrl": "https://lh3.googleusercontent.com/a-/AOh14Gi8YMbhu3rjJ3ozoTkESn-LDL1HeqaAmbfamvZVBQ=s64",
      "userId": "02994691659717319524"
     },
     "user_tz": 300
    },
    "id": "RacF7xMaETlS"
   },
   "outputs": [],
   "source": [
    "y_pred = bnb_bbof.predict(trainnig_data_f)\n",
    "y_pred_val = bnb_bbof.predict(validation_data_f)\n",
    "y_pred_test = bnb_bbof.predict(test_data_f)"
   ]
  },
  {
   "cell_type": "code",
   "execution_count": 75,
   "id": "p93oWN-wETlS",
   "metadata": {
    "colab": {
     "base_uri": "https://localhost:8080/"
    },
    "executionInfo": {
     "elapsed": 111,
     "status": "ok",
     "timestamp": 1636842840620,
     "user": {
      "displayName": "Patrick Foalem",
      "photoUrl": "https://lh3.googleusercontent.com/a-/AOh14Gi8YMbhu3rjJ3ozoTkESn-LDL1HeqaAmbfamvZVBQ=s64",
      "userId": "02994691659717319524"
     },
     "user_tz": 300
    },
    "id": "p93oWN-wETlS",
    "outputId": "72033541-10a8-434e-dc7d-baf413602f72"
   },
   "outputs": [
    {
     "name": "stdout",
     "output_type": "stream",
     "text": [
      "Training f1-score\n",
      "Gaussian naive bayes training f1-score for best alpha :  0.5758868567991946\n"
     ]
    }
   ],
   "source": [
    "print(\"Training f1-score\")\n",
    "print(\"Gaussian naive bayes training f1-score for best alpha : \", f1_score(df_.iloc[:,0].values,y_pred, average='macro'))"
   ]
  },
  {
   "cell_type": "code",
   "execution_count": 76,
   "id": "vejvsd8ZETlT",
   "metadata": {
    "colab": {
     "base_uri": "https://localhost:8080/"
    },
    "executionInfo": {
     "elapsed": 103,
     "status": "ok",
     "timestamp": 1636842840621,
     "user": {
      "displayName": "Patrick Foalem",
      "photoUrl": "https://lh3.googleusercontent.com/a-/AOh14Gi8YMbhu3rjJ3ozoTkESn-LDL1HeqaAmbfamvZVBQ=s64",
      "userId": "02994691659717319524"
     },
     "user_tz": 300
    },
    "id": "vejvsd8ZETlT",
    "outputId": "abb7af5c-0f4b-4d83-bbf5-b37562ba297d"
   },
   "outputs": [
    {
     "name": "stdout",
     "output_type": "stream",
     "text": [
      "Validation f1-score\n",
      "Gaussian naive bayes validation f1-score :  0.54820646001428 for smoothing =  {'var_smoothing': 0.0011288378916846883}\n"
     ]
    }
   ],
   "source": [
    "print(\"Validation f1-score\")\n",
    "print(\"Gaussian naive bayes validation f1-score : \", f1_score(df_V.iloc[:,0].values,y_pred_val, average='macro'), \"for smoothing = \", bnb_bbof.best_params_)"
   ]
  },
  {
   "cell_type": "code",
   "execution_count": 77,
   "id": "TdY-nmSoETlT",
   "metadata": {
    "colab": {
     "base_uri": "https://localhost:8080/"
    },
    "executionInfo": {
     "elapsed": 96,
     "status": "ok",
     "timestamp": 1636842840622,
     "user": {
      "displayName": "Patrick Foalem",
      "photoUrl": "https://lh3.googleusercontent.com/a-/AOh14Gi8YMbhu3rjJ3ozoTkESn-LDL1HeqaAmbfamvZVBQ=s64",
      "userId": "02994691659717319524"
     },
     "user_tz": 300
    },
    "id": "TdY-nmSoETlT",
    "outputId": "2e572b3c-6e23-4ebe-d69a-3e52e87b38e6"
   },
   "outputs": [
    {
     "name": "stdout",
     "output_type": "stream",
     "text": [
      "Test f1-score\n",
      "Gaussian naive bayes test f1-score for best alpha :  0.45365751346354793\n"
     ]
    }
   ],
   "source": [
    "print(\"Test f1-score\")\n",
    "print(\"Gaussian naive bayes test f1-score for best alpha : \", f1_score(df_T.iloc[:,0].values,y_pred_test, average='macro'))"
   ]
  },
  {
   "cell_type": "code",
   "execution_count": 78,
   "id": "Jxu5QocgETlU",
   "metadata": {
    "executionInfo": {
     "elapsed": 534375,
     "status": "ok",
     "timestamp": 1636843374908,
     "user": {
      "displayName": "Patrick Foalem",
      "photoUrl": "https://lh3.googleusercontent.com/a-/AOh14Gi8YMbhu3rjJ3ozoTkESn-LDL1HeqaAmbfamvZVBQ=s64",
      "userId": "02994691659717319524"
     },
     "user_tz": 300
    },
    "id": "Jxu5QocgETlU"
   },
   "outputs": [],
   "source": [
    "parameter_NB = {\n",
    "    'C': np.logspace(-4,0,20),\n",
    "    'multi_class': ['ovr', 'multinomial'],\n",
    "    'solver': ['newton-cg', 'lbfgs']\n",
    "}\n",
    "ps = PredefinedSplit(test_fold=split_index)\n",
    "bnb_bbof = grid_search(LogisticRegression(penalty='l2',max_iter=1000, dual=False), parameter_NB, All_data_X, All_data_Y, ps )"
   ]
  },
  {
   "cell_type": "code",
   "execution_count": 79,
   "id": "lSLtAZV7ETlV",
   "metadata": {
    "colab": {
     "base_uri": "https://localhost:8080/"
    },
    "executionInfo": {
     "elapsed": 125,
     "status": "ok",
     "timestamp": 1636843374910,
     "user": {
      "displayName": "Patrick Foalem",
      "photoUrl": "https://lh3.googleusercontent.com/a-/AOh14Gi8YMbhu3rjJ3ozoTkESn-LDL1HeqaAmbfamvZVBQ=s64",
      "userId": "02994691659717319524"
     },
     "user_tz": 300
    },
    "id": "lSLtAZV7ETlV",
    "outputId": "b35b9a99-a934-4ed8-ecd9-f19e9681290c"
   },
   "outputs": [
    {
     "name": "stdout",
     "output_type": "stream",
     "text": [
      "Best Parameter for Logistic regression :  {'C': 1.0, 'multi_class': 'multinomial', 'solver': 'newton-cg'}\n"
     ]
    }
   ],
   "source": [
    "print('Best Parameter for Logistic regression : ', bnb_bbof.best_params_) "
   ]
  },
  {
   "cell_type": "code",
   "execution_count": 80,
   "id": "oPjUXQj9ETlV",
   "metadata": {
    "executionInfo": {
     "elapsed": 109,
     "status": "ok",
     "timestamp": 1636843374912,
     "user": {
      "displayName": "Patrick Foalem",
      "photoUrl": "https://lh3.googleusercontent.com/a-/AOh14Gi8YMbhu3rjJ3ozoTkESn-LDL1HeqaAmbfamvZVBQ=s64",
      "userId": "02994691659717319524"
     },
     "user_tz": 300
    },
    "id": "oPjUXQj9ETlV"
   },
   "outputs": [],
   "source": [
    "y_pred = bnb_bbof.predict(trainnig_data_f)\n",
    "y_pred_val = bnb_bbof.predict(validation_data_f)\n",
    "y_pred_test = bnb_bbof.predict(test_data_f)"
   ]
  },
  {
   "cell_type": "code",
   "execution_count": 81,
   "id": "nSbLguBmETlW",
   "metadata": {
    "colab": {
     "base_uri": "https://localhost:8080/"
    },
    "executionInfo": {
     "elapsed": 110,
     "status": "ok",
     "timestamp": 1636843374914,
     "user": {
      "displayName": "Patrick Foalem",
      "photoUrl": "https://lh3.googleusercontent.com/a-/AOh14Gi8YMbhu3rjJ3ozoTkESn-LDL1HeqaAmbfamvZVBQ=s64",
      "userId": "02994691659717319524"
     },
     "user_tz": 300
    },
    "id": "nSbLguBmETlW",
    "outputId": "ad88c229-0726-45a7-fc25-6ba3c457cc32"
   },
   "outputs": [
    {
     "name": "stdout",
     "output_type": "stream",
     "text": [
      "Training f1-score\n",
      "Logistic regression training f1-score for best parameter :  0.33226822271198364\n"
     ]
    }
   ],
   "source": [
    "print(\"Training f1-score\")\n",
    "print(\"Logistic regression training f1-score for best parameter : \", f1_score(df_.iloc[:,0].values,y_pred, average='macro'))"
   ]
  },
  {
   "cell_type": "code",
   "execution_count": 82,
   "id": "a8jHOFLqETlW",
   "metadata": {
    "colab": {
     "base_uri": "https://localhost:8080/"
    },
    "executionInfo": {
     "elapsed": 104,
     "status": "ok",
     "timestamp": 1636843374915,
     "user": {
      "displayName": "Patrick Foalem",
      "photoUrl": "https://lh3.googleusercontent.com/a-/AOh14Gi8YMbhu3rjJ3ozoTkESn-LDL1HeqaAmbfamvZVBQ=s64",
      "userId": "02994691659717319524"
     },
     "user_tz": 300
    },
    "id": "a8jHOFLqETlW",
    "outputId": "99b2cd18-c539-4d44-f314-beac42220655"
   },
   "outputs": [
    {
     "name": "stdout",
     "output_type": "stream",
     "text": [
      "Validation f1-score\n",
      "Logistic regression validation f1-score :  0.3315731724462538 for parameter =  {'C': 1.0, 'multi_class': 'multinomial', 'solver': 'newton-cg'}\n"
     ]
    }
   ],
   "source": [
    "print(\"Validation f1-score\")\n",
    "print(\"Logistic regression validation f1-score : \", f1_score(df_V.iloc[:,0].values,y_pred_val, average='macro'), \"for parameter = \", bnb_bbof.best_params_)"
   ]
  },
  {
   "cell_type": "code",
   "execution_count": 83,
   "id": "M7t_4yqCETlX",
   "metadata": {
    "colab": {
     "base_uri": "https://localhost:8080/"
    },
    "executionInfo": {
     "elapsed": 311,
     "status": "ok",
     "timestamp": 1636843375128,
     "user": {
      "displayName": "Patrick Foalem",
      "photoUrl": "https://lh3.googleusercontent.com/a-/AOh14Gi8YMbhu3rjJ3ozoTkESn-LDL1HeqaAmbfamvZVBQ=s64",
      "userId": "02994691659717319524"
     },
     "user_tz": 300
    },
    "id": "M7t_4yqCETlX",
    "outputId": "54edc32e-60f9-4ba7-ce30-a9cb8e5c9c96"
   },
   "outputs": [
    {
     "name": "stdout",
     "output_type": "stream",
     "text": [
      "Test f1-score\n",
      "Logistic regresssion test f1-score for best parameter :  0.33142365453263906\n"
     ]
    }
   ],
   "source": [
    "print(\"Test f1-score\")\n",
    "print(\"Logistic regresssion test f1-score for best parameter : \", f1_score(df_T.iloc[:,0].values,y_pred_test, average='macro'))"
   ]
  },
  {
   "cell_type": "code",
   "execution_count": 84,
   "id": "vf7IaNQPETlX",
   "metadata": {
    "colab": {
     "base_uri": "https://localhost:8080/"
    },
    "executionInfo": {
     "elapsed": 88543,
     "status": "ok",
     "timestamp": 1636843463645,
     "user": {
      "displayName": "Patrick Foalem",
      "photoUrl": "https://lh3.googleusercontent.com/a-/AOh14Gi8YMbhu3rjJ3ozoTkESn-LDL1HeqaAmbfamvZVBQ=s64",
      "userId": "02994691659717319524"
     },
     "user_tz": 300
    },
    "id": "vf7IaNQPETlX",
    "outputId": "174f2de5-4988-428b-b040-e433ab0e4a9e"
   },
   "outputs": [
    {
     "name": "stderr",
     "output_type": "stream",
     "text": [
      "/usr/local/lib/python3.7/dist-packages/sklearn/svm/_base.py:947: ConvergenceWarning: Liblinear failed to converge, increase the number of iterations.\n",
      "  \"the number of iterations.\", ConvergenceWarning)\n",
      "/usr/local/lib/python3.7/dist-packages/sklearn/svm/_base.py:947: ConvergenceWarning: Liblinear failed to converge, increase the number of iterations.\n",
      "  \"the number of iterations.\", ConvergenceWarning)\n",
      "/usr/local/lib/python3.7/dist-packages/sklearn/svm/_base.py:947: ConvergenceWarning: Liblinear failed to converge, increase the number of iterations.\n",
      "  \"the number of iterations.\", ConvergenceWarning)\n",
      "/usr/local/lib/python3.7/dist-packages/sklearn/svm/_base.py:947: ConvergenceWarning: Liblinear failed to converge, increase the number of iterations.\n",
      "  \"the number of iterations.\", ConvergenceWarning)\n",
      "/usr/local/lib/python3.7/dist-packages/sklearn/svm/_base.py:947: ConvergenceWarning: Liblinear failed to converge, increase the number of iterations.\n",
      "  \"the number of iterations.\", ConvergenceWarning)\n",
      "/usr/local/lib/python3.7/dist-packages/sklearn/svm/_base.py:947: ConvergenceWarning: Liblinear failed to converge, increase the number of iterations.\n",
      "  \"the number of iterations.\", ConvergenceWarning)\n",
      "/usr/local/lib/python3.7/dist-packages/sklearn/svm/_base.py:947: ConvergenceWarning: Liblinear failed to converge, increase the number of iterations.\n",
      "  \"the number of iterations.\", ConvergenceWarning)\n",
      "/usr/local/lib/python3.7/dist-packages/sklearn/svm/_base.py:947: ConvergenceWarning: Liblinear failed to converge, increase the number of iterations.\n",
      "  \"the number of iterations.\", ConvergenceWarning)\n",
      "/usr/local/lib/python3.7/dist-packages/sklearn/svm/_base.py:947: ConvergenceWarning: Liblinear failed to converge, increase the number of iterations.\n",
      "  \"the number of iterations.\", ConvergenceWarning)\n",
      "/usr/local/lib/python3.7/dist-packages/sklearn/svm/_base.py:947: ConvergenceWarning: Liblinear failed to converge, increase the number of iterations.\n",
      "  \"the number of iterations.\", ConvergenceWarning)\n",
      "/usr/local/lib/python3.7/dist-packages/sklearn/svm/_base.py:947: ConvergenceWarning: Liblinear failed to converge, increase the number of iterations.\n",
      "  \"the number of iterations.\", ConvergenceWarning)\n",
      "/usr/local/lib/python3.7/dist-packages/sklearn/svm/_base.py:947: ConvergenceWarning: Liblinear failed to converge, increase the number of iterations.\n",
      "  \"the number of iterations.\", ConvergenceWarning)\n",
      "/usr/local/lib/python3.7/dist-packages/sklearn/svm/_base.py:947: ConvergenceWarning: Liblinear failed to converge, increase the number of iterations.\n",
      "  \"the number of iterations.\", ConvergenceWarning)\n",
      "/usr/local/lib/python3.7/dist-packages/sklearn/svm/_base.py:947: ConvergenceWarning: Liblinear failed to converge, increase the number of iterations.\n",
      "  \"the number of iterations.\", ConvergenceWarning)\n",
      "/usr/local/lib/python3.7/dist-packages/sklearn/svm/_base.py:947: ConvergenceWarning: Liblinear failed to converge, increase the number of iterations.\n",
      "  \"the number of iterations.\", ConvergenceWarning)\n",
      "/usr/local/lib/python3.7/dist-packages/sklearn/svm/_base.py:947: ConvergenceWarning: Liblinear failed to converge, increase the number of iterations.\n",
      "  \"the number of iterations.\", ConvergenceWarning)\n",
      "/usr/local/lib/python3.7/dist-packages/sklearn/svm/_base.py:947: ConvergenceWarning: Liblinear failed to converge, increase the number of iterations.\n",
      "  \"the number of iterations.\", ConvergenceWarning)\n",
      "/usr/local/lib/python3.7/dist-packages/sklearn/svm/_base.py:947: ConvergenceWarning: Liblinear failed to converge, increase the number of iterations.\n",
      "  \"the number of iterations.\", ConvergenceWarning)\n",
      "/usr/local/lib/python3.7/dist-packages/sklearn/svm/_base.py:947: ConvergenceWarning: Liblinear failed to converge, increase the number of iterations.\n",
      "  \"the number of iterations.\", ConvergenceWarning)\n",
      "/usr/local/lib/python3.7/dist-packages/sklearn/svm/_base.py:947: ConvergenceWarning: Liblinear failed to converge, increase the number of iterations.\n",
      "  \"the number of iterations.\", ConvergenceWarning)\n",
      "/usr/local/lib/python3.7/dist-packages/sklearn/svm/_base.py:947: ConvergenceWarning: Liblinear failed to converge, increase the number of iterations.\n",
      "  \"the number of iterations.\", ConvergenceWarning)\n"
     ]
    }
   ],
   "source": [
    "parameter_NB = {\n",
    "    'C': np.logspace(-4,0,20),\n",
    "    'multi_class': ['ovr', 'crammer_singer']\n",
    "}\n",
    "ps = PredefinedSplit(test_fold=split_index)\n",
    "bnb_bbof = grid_search(LinearSVC(penalty='l2', loss='hinge', max_iter=100000), parameter_NB, All_data_X, All_data_Y, ps )"
   ]
  },
  {
   "cell_type": "code",
   "execution_count": 85,
   "id": "bGrLeEcOETlY",
   "metadata": {
    "colab": {
     "base_uri": "https://localhost:8080/"
    },
    "executionInfo": {
     "elapsed": 135,
     "status": "ok",
     "timestamp": 1636843463647,
     "user": {
      "displayName": "Patrick Foalem",
      "photoUrl": "https://lh3.googleusercontent.com/a-/AOh14Gi8YMbhu3rjJ3ozoTkESn-LDL1HeqaAmbfamvZVBQ=s64",
      "userId": "02994691659717319524"
     },
     "user_tz": 300
    },
    "id": "bGrLeEcOETlY",
    "outputId": "7433caf8-24e6-421c-dc78-2392ea5aa282"
   },
   "outputs": [
    {
     "name": "stdout",
     "output_type": "stream",
     "text": [
      "Best Parameter for support vector machine :  {'C': 0.00026366508987303583, 'multi_class': 'crammer_singer'}\n"
     ]
    }
   ],
   "source": [
    "print('Best Parameter for support vector machine : ', bnb_bbof.best_params_) "
   ]
  },
  {
   "cell_type": "code",
   "execution_count": 86,
   "id": "uYMMHaQNETlY",
   "metadata": {
    "executionInfo": {
     "elapsed": 122,
     "status": "ok",
     "timestamp": 1636843463648,
     "user": {
      "displayName": "Patrick Foalem",
      "photoUrl": "https://lh3.googleusercontent.com/a-/AOh14Gi8YMbhu3rjJ3ozoTkESn-LDL1HeqaAmbfamvZVBQ=s64",
      "userId": "02994691659717319524"
     },
     "user_tz": 300
    },
    "id": "uYMMHaQNETlY"
   },
   "outputs": [],
   "source": [
    "y_pred = bnb_bbof.predict(trainnig_data_f)\n",
    "y_pred_val = bnb_bbof.predict(validation_data_f)\n",
    "y_pred_test = bnb_bbof.predict(test_data_f)"
   ]
  },
  {
   "cell_type": "code",
   "execution_count": 87,
   "id": "ReCsEbEdETlZ",
   "metadata": {
    "colab": {
     "base_uri": "https://localhost:8080/"
    },
    "executionInfo": {
     "elapsed": 121,
     "status": "ok",
     "timestamp": 1636843463649,
     "user": {
      "displayName": "Patrick Foalem",
      "photoUrl": "https://lh3.googleusercontent.com/a-/AOh14Gi8YMbhu3rjJ3ozoTkESn-LDL1HeqaAmbfamvZVBQ=s64",
      "userId": "02994691659717319524"
     },
     "user_tz": 300
    },
    "id": "ReCsEbEdETlZ",
    "outputId": "4857988a-d520-40ae-8ec1-b8a0817909b4"
   },
   "outputs": [
    {
     "name": "stdout",
     "output_type": "stream",
     "text": [
      "Training f1-score\n",
      "Support vector machine training f1-score for best parameter :  0.43502660424123496\n"
     ]
    }
   ],
   "source": [
    "print(\"Training f1-score\")\n",
    "print(\"Support vector machine training f1-score for best parameter : \", f1_score(df_.iloc[:,0].values,y_pred, average='macro'))"
   ]
  },
  {
   "cell_type": "code",
   "execution_count": 88,
   "id": "W2NTXyhPETlZ",
   "metadata": {
    "colab": {
     "base_uri": "https://localhost:8080/"
    },
    "executionInfo": {
     "elapsed": 113,
     "status": "ok",
     "timestamp": 1636843463650,
     "user": {
      "displayName": "Patrick Foalem",
      "photoUrl": "https://lh3.googleusercontent.com/a-/AOh14Gi8YMbhu3rjJ3ozoTkESn-LDL1HeqaAmbfamvZVBQ=s64",
      "userId": "02994691659717319524"
     },
     "user_tz": 300
    },
    "id": "W2NTXyhPETlZ",
    "outputId": "a9eec57b-1e9c-46da-a649-1e471c05a473"
   },
   "outputs": [
    {
     "name": "stdout",
     "output_type": "stream",
     "text": [
      "Validation f1-score\n",
      "Support vector machine validation f1-score :  0.42892538137912545 for parameter =  {'C': 0.00026366508987303583, 'multi_class': 'crammer_singer'}\n"
     ]
    }
   ],
   "source": [
    "print(\"Validation f1-score\")\n",
    "print(\"Support vector machine validation f1-score : \", f1_score(df_V.iloc[:,0].values,y_pred_val, average='macro'), \"for parameter = \", bnb_bbof.best_params_)"
   ]
  },
  {
   "cell_type": "code",
   "execution_count": 89,
   "id": "O9BcEZQ4ETla",
   "metadata": {
    "colab": {
     "base_uri": "https://localhost:8080/"
    },
    "executionInfo": {
     "elapsed": 40,
     "status": "ok",
     "timestamp": 1636843463879,
     "user": {
      "displayName": "Patrick Foalem",
      "photoUrl": "https://lh3.googleusercontent.com/a-/AOh14Gi8YMbhu3rjJ3ozoTkESn-LDL1HeqaAmbfamvZVBQ=s64",
      "userId": "02994691659717319524"
     },
     "user_tz": 300
    },
    "id": "O9BcEZQ4ETla",
    "outputId": "33ec111f-a414-4994-b352-2b129a88fead"
   },
   "outputs": [
    {
     "name": "stdout",
     "output_type": "stream",
     "text": [
      "Test f1-score\n",
      "Support vector machine test f1-score for best parameter :  0.3651041219590659\n"
     ]
    }
   ],
   "source": [
    "print(\"Test f1-score\")\n",
    "print(\"Support vector machine test f1-score for best parameter : \", f1_score(df_T.iloc[:,0].values,y_pred_test, average='macro'))"
   ]
  },
  {
   "cell_type": "code",
   "execution_count": 90,
   "id": "CjEX43hcETla",
   "metadata": {
    "executionInfo": {
     "elapsed": 6477,
     "status": "ok",
     "timestamp": 1636843470320,
     "user": {
      "displayName": "Patrick Foalem",
      "photoUrl": "https://lh3.googleusercontent.com/a-/AOh14Gi8YMbhu3rjJ3ozoTkESn-LDL1HeqaAmbfamvZVBQ=s64",
      "userId": "02994691659717319524"
     },
     "user_tz": 300
    },
    "id": "CjEX43hcETla"
   },
   "outputs": [],
   "source": [
    "clf = DecisionTreeClassifier(random_state=0)\n",
    "path = clf.cost_complexity_pruning_path(trainnig_data_f, df_.iloc[:,0].values)\n",
    "ccp_alphas = path.ccp_alphas"
   ]
  },
  {
   "cell_type": "code",
   "execution_count": 91,
   "id": "4TIRIF_SETla",
   "metadata": {
    "colab": {
     "base_uri": "https://localhost:8080/"
    },
    "executionInfo": {
     "elapsed": 5983718,
     "status": "ok",
     "timestamp": 1636849453946,
     "user": {
      "displayName": "Patrick Foalem",
      "photoUrl": "https://lh3.googleusercontent.com/a-/AOh14Gi8YMbhu3rjJ3ozoTkESn-LDL1HeqaAmbfamvZVBQ=s64",
      "userId": "02994691659717319524"
     },
     "user_tz": 300
    },
    "id": "4TIRIF_SETla",
    "outputId": "c8b07bec-0f35-4ecd-e9bf-aa95910536c2"
   },
   "outputs": [
    {
     "name": "stderr",
     "output_type": "stream",
     "text": [
      "/usr/local/lib/python3.7/dist-packages/sklearn/model_selection/_validation.py:536: FitFailedWarning: Estimator fit failed. The score on this train-test partition for these parameters will be set to nan. Details: \n",
      "ValueError: ccp_alpha must be greater than or equal to 0\n",
      "\n",
      "  FitFailedWarning)\n"
     ]
    }
   ],
   "source": [
    "parameter_NB = {\n",
    "    'criterion' : [\"gini\", \"entropy\"],\n",
    "    'ccp_alpha':ccp_alphas\n",
    "}\n",
    "ps = PredefinedSplit(test_fold=split_index)\n",
    "bnb_bbof = grid_search(DecisionTreeClassifier(), parameter_NB, All_data_X, All_data_Y, ps )"
   ]
  },
  {
   "cell_type": "code",
   "execution_count": 92,
   "id": "pviySpUyETlb",
   "metadata": {
    "colab": {
     "base_uri": "https://localhost:8080/"
    },
    "executionInfo": {
     "elapsed": 172,
     "status": "ok",
     "timestamp": 1636849453950,
     "user": {
      "displayName": "Patrick Foalem",
      "photoUrl": "https://lh3.googleusercontent.com/a-/AOh14Gi8YMbhu3rjJ3ozoTkESn-LDL1HeqaAmbfamvZVBQ=s64",
      "userId": "02994691659717319524"
     },
     "user_tz": 300
    },
    "id": "pviySpUyETlb",
    "outputId": "2536a9aa-cee7-4743-fe2b-fea1b7ce0b5c"
   },
   "outputs": [
    {
     "name": "stdout",
     "output_type": "stream",
     "text": [
      "Best Parameter for decision tree :  {'ccp_alpha': 0.0036966786811697405, 'criterion': 'entropy'}\n"
     ]
    }
   ],
   "source": [
    "print('Best Parameter for decision tree : ', bnb_bbof.best_params_) "
   ]
  },
  {
   "cell_type": "code",
   "execution_count": 93,
   "id": "czN_mnpyETlb",
   "metadata": {
    "executionInfo": {
     "elapsed": 123,
     "status": "ok",
     "timestamp": 1636849453951,
     "user": {
      "displayName": "Patrick Foalem",
      "photoUrl": "https://lh3.googleusercontent.com/a-/AOh14Gi8YMbhu3rjJ3ozoTkESn-LDL1HeqaAmbfamvZVBQ=s64",
      "userId": "02994691659717319524"
     },
     "user_tz": 300
    },
    "id": "czN_mnpyETlb"
   },
   "outputs": [],
   "source": [
    "y_pred = bnb_bbof.predict(trainnig_data_f)\n",
    "y_pred_val = bnb_bbof.predict(validation_data_f)\n",
    "y_pred_test = bnb_bbof.predict(test_data_f)"
   ]
  },
  {
   "cell_type": "code",
   "execution_count": 94,
   "id": "qCKe9dZAETlb",
   "metadata": {
    "colab": {
     "base_uri": "https://localhost:8080/"
    },
    "executionInfo": {
     "elapsed": 123,
     "status": "ok",
     "timestamp": 1636849453952,
     "user": {
      "displayName": "Patrick Foalem",
      "photoUrl": "https://lh3.googleusercontent.com/a-/AOh14Gi8YMbhu3rjJ3ozoTkESn-LDL1HeqaAmbfamvZVBQ=s64",
      "userId": "02994691659717319524"
     },
     "user_tz": 300
    },
    "id": "qCKe9dZAETlb",
    "outputId": "8e058225-f929-4b58-f24d-ede88f166366"
   },
   "outputs": [
    {
     "name": "stdout",
     "output_type": "stream",
     "text": [
      "Training f1-score\n",
      "Decission tree training f1-score for best parameter :  0.8163593919317851\n"
     ]
    }
   ],
   "source": [
    "print(\"Training f1-score\")\n",
    "print(\"Decission tree training f1-score for best parameter : \", f1_score(df_.iloc[:,0].values,y_pred, average='macro'))"
   ]
  },
  {
   "cell_type": "code",
   "execution_count": 95,
   "id": "GlJ22XkbETlb",
   "metadata": {
    "colab": {
     "base_uri": "https://localhost:8080/"
    },
    "executionInfo": {
     "elapsed": 118,
     "status": "ok",
     "timestamp": 1636849453953,
     "user": {
      "displayName": "Patrick Foalem",
      "photoUrl": "https://lh3.googleusercontent.com/a-/AOh14Gi8YMbhu3rjJ3ozoTkESn-LDL1HeqaAmbfamvZVBQ=s64",
      "userId": "02994691659717319524"
     },
     "user_tz": 300
    },
    "id": "GlJ22XkbETlb",
    "outputId": "5d22cbf5-2cde-486b-f6bd-1298499b0dae"
   },
   "outputs": [
    {
     "name": "stdout",
     "output_type": "stream",
     "text": [
      "Validation f1-score\n",
      "Decission tree validation f1-score :  0.8219494384333732 for parameter =  {'ccp_alpha': 0.0036966786811697405, 'criterion': 'entropy'}\n"
     ]
    }
   ],
   "source": [
    "print(\"Validation f1-score\")\n",
    "print(\"Decission tree validation f1-score : \", f1_score(df_V.iloc[:,0].values,y_pred_val, average='macro'), \"for parameter = \", bnb_bbof.best_params_)"
   ]
  },
  {
   "cell_type": "code",
   "execution_count": 96,
   "id": "Upxkx6poETlc",
   "metadata": {
    "colab": {
     "base_uri": "https://localhost:8080/"
    },
    "executionInfo": {
     "elapsed": 113,
     "status": "ok",
     "timestamp": 1636849453953,
     "user": {
      "displayName": "Patrick Foalem",
      "photoUrl": "https://lh3.googleusercontent.com/a-/AOh14Gi8YMbhu3rjJ3ozoTkESn-LDL1HeqaAmbfamvZVBQ=s64",
      "userId": "02994691659717319524"
     },
     "user_tz": 300
    },
    "id": "Upxkx6poETlc",
    "outputId": "63ed11a4-b6b4-4ae9-f2f6-f8fd3ea3da90"
   },
   "outputs": [
    {
     "name": "stdout",
     "output_type": "stream",
     "text": [
      "Test f1-score\n",
      "Decision tree test f1-score for best parameter :  0.770379286325175\n"
     ]
    }
   ],
   "source": [
    "print(\"Test f1-score\")\n",
    "print(\"Decision tree test f1-score for best parameter : \", f1_score(df_T.iloc[:,0].values,y_pred_test, average='macro'))"
   ]
  }
 ],
 "metadata": {
  "colab": {
   "collapsed_sections": [],
   "name": "Medical_Text_Classification.ipynb",
   "provenance": []
  },
  "kernelspec": {
   "display_name": "Python 3 (ipykernel)",
   "language": "python",
   "name": "python3"
  },
  "language_info": {
   "codemirror_mode": {
    "name": "ipython",
    "version": 3
   },
   "file_extension": ".py",
   "mimetype": "text/x-python",
   "name": "python",
   "nbconvert_exporter": "python",
   "pygments_lexer": "ipython3",
   "version": "3.7.11"
  }
 },
 "nbformat": 4,
 "nbformat_minor": 5
}
