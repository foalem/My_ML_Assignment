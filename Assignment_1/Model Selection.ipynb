{
 "cells": [
  {
   "cell_type": "code",
   "execution_count": 3,
   "id": "d16bd39e",
   "metadata": {},
   "outputs": [],
   "source": [
    "# Importation of library\n",
    "import matplotlib.pyplot as plt\n",
    "import numpy as np"
   ]
  },
  {
   "cell_type": "code",
   "execution_count": 4,
   "id": "d5b37436",
   "metadata": {},
   "outputs": [],
   "source": [
    "# Data reading\n",
    "data = np.loadtxt(\"Datasets/Dataset_1_train.csv\", delimiter=\",\",dtype = float , usecols=(0, 1))\n",
    "data_V = np.loadtxt(\"Datasets/Dataset_1_valid.csv\", delimiter=\",\",dtype = float , usecols=(0, 1))\n",
    "data_T = np.loadtxt(\"Datasets/Dataset_1_test.csv\", delimiter=\",\",dtype = float , usecols=(0, 1))"
   ]
  },
  {
   "cell_type": "code",
   "execution_count": 5,
   "id": "6bd83b9e",
   "metadata": {},
   "outputs": [
    {
     "data": {
      "text/plain": [
       "(50, 2)"
      ]
     },
     "execution_count": 5,
     "metadata": {},
     "output_type": "execute_result"
    }
   ],
   "source": [
    "data_T.shape"
   ]
  },
  {
   "cell_type": "code",
   "execution_count": 6,
   "id": "b502f266",
   "metadata": {},
   "outputs": [],
   "source": [
    "# Split data into imput and output\n",
    "data_X = data[:, 0]\n",
    "data_Y = data[:, 1]\n",
    "data_V_X = data_V[:, 0]\n",
    "data_V_Y = data_V[:, 1]\n",
    "data_T_X = data_T[:, 0]\n",
    "data_T_Y = data_T[:, 1]\n",
    "# data_Y"
   ]
  },
  {
   "cell_type": "code",
   "execution_count": 7,
   "id": "4a1995bc",
   "metadata": {},
   "outputs": [],
   "source": [
    "# Define a polynomial fonction\n",
    "def Polynomial(data_X, degrees):\n",
    "    arr=[]\n",
    "    for i in range(degrees):\n",
    "        arr.append(data_X**i)\n",
    "    data_Xi=np.array(arr)\n",
    "    X_ = np.vstack(data_Xi).T\n",
    "    return X_"
   ]
  },
  {
   "cell_type": "code",
   "execution_count": 8,
   "id": "1132d974",
   "metadata": {},
   "outputs": [
    {
     "data": {
      "text/plain": [
       "(50, 20)"
      ]
     },
     "execution_count": 8,
     "metadata": {},
     "output_type": "execute_result"
    }
   ],
   "source": [
    "Polynomial(data_X,20).shape"
   ]
  },
  {
   "cell_type": "code",
   "execution_count": 9,
   "id": "b8bdc6fa",
   "metadata": {},
   "outputs": [],
   "source": [
    "# fine the parameter W\n",
    "def find_W(X, data_Y):\n",
    "    \n",
    "    m = X.shape[0] # Number of training examples. \n",
    "    \n",
    "    # reshaping y to (m,1)\n",
    "    data_Y = data_Y.reshape(m,1)\n",
    "    \n",
    "    # The Normal Equation\n",
    "    W = np.dot(np.linalg.inv(np.dot(X.T, X)), np.dot(X.T, data_Y))\n",
    "    \n",
    "    return W"
   ]
  },
  {
   "cell_type": "code",
   "execution_count": 10,
   "id": "f98f4092",
   "metadata": {},
   "outputs": [],
   "source": [
    "# fine the predicted value\n",
    "def predict(X,W):\n",
    "    preds = np.dot(X,W)\n",
    "    \n",
    "    return np.hstack(preds)"
   ]
  },
  {
   "cell_type": "code",
   "execution_count": 11,
   "id": "960e6db8",
   "metadata": {},
   "outputs": [],
   "source": [
    "# Evaluation of X, X_V for data training and validation prediction model\n",
    "X_P = Polynomial(data_X,21)\n",
    "X_V_P = Polynomial(data_V_X,21)\n",
    "X_T_P = Polynomial(data_T_X,21)"
   ]
  },
  {
   "cell_type": "code",
   "execution_count": 12,
   "id": "97a8b1a0",
   "metadata": {},
   "outputs": [
    {
     "data": {
      "text/plain": [
       "(50, 21)"
      ]
     },
     "execution_count": 12,
     "metadata": {},
     "output_type": "execute_result"
    }
   ],
   "source": [
    "X_P.shape"
   ]
  },
  {
   "cell_type": "code",
   "execution_count": 13,
   "id": "1ba72563",
   "metadata": {},
   "outputs": [
    {
     "data": {
      "text/plain": [
       "(21, 1)"
      ]
     },
     "execution_count": 13,
     "metadata": {},
     "output_type": "execute_result"
    }
   ],
   "source": [
    "# Evaluation of W\n",
    "W = find_W(X_P, data_Y)\n",
    "W.shape"
   ]
  },
  {
   "cell_type": "code",
   "execution_count": 14,
   "id": "063aa753",
   "metadata": {},
   "outputs": [],
   "source": [
    "\n",
    "predic = predict(X_P,W)\n",
    "predic_V = predict(X_V_P,W)"
   ]
  },
  {
   "cell_type": "code",
   "execution_count": 15,
   "id": "a5bde164",
   "metadata": {},
   "outputs": [
    {
     "data": {
      "text/plain": [
       "(50,)"
      ]
     },
     "execution_count": 15,
     "metadata": {},
     "output_type": "execute_result"
    }
   ],
   "source": [
    "predic.shape"
   ]
  },
  {
   "cell_type": "code",
   "execution_count": 16,
   "id": "3b62cfd1",
   "metadata": {},
   "outputs": [],
   "source": [
    "# genereting  X point for plotting Model training\n",
    "def inputX():\n",
    "    arr=[]\n",
    "    datX = np.linspace(np.amin(data_X), np.amax(data_X), 1000)\n",
    "    for i in range(21):\n",
    "     arr.append(datX**i)\n",
    "    data_Xi=np.array(arr)\n",
    "#     data_Xi_V.shape\n",
    "    datX = np.vstack(data_Xi)\n",
    "    return datX"
   ]
  },
  {
   "cell_type": "markdown",
   "id": "a0b16595",
   "metadata": {},
   "source": [
    "# #Question 1.b) Aperçu du model"
   ]
  },
  {
   "cell_type": "code",
   "execution_count": 17,
   "id": "87e49797",
   "metadata": {},
   "outputs": [
    {
     "data": {
      "image/png": "[encoded data removed]",
      "text/plain": [
       "<Figure size 432x288 with 1 Axes>"
      ]
     },
     "metadata": {
      "needs_background": "light"
     },
     "output_type": "display_data"
    }
   ],
   "source": [
    "# Model training \n",
    "input_X = inputX()\n",
    "# L= np.arange(np.amin(data),np.amax(data),0.9)\n",
    "# L= np.arange(-1,1,0.01)\n",
    "Y_hat = np.dot(input_X.T, W)\n",
    "# Y_hat = X_P.dot( W)\n",
    "plt.title(\"Data fitting\") \n",
    "plt.xlabel(\"x axis\") \n",
    "plt.ylabel(\"y axis\") \n",
    "plt.plot(data_X,data_Y,\"ob\", label='Train') \n",
    "plt.plot(data_V_X,data_V_Y,\"+g\", label='Validation') \n",
    "plt.plot(np.linspace(np.amin(data_X), np.amax(data_X), 1000), Y_hat ,'r', label='model')\n",
    "# plt.plot(L, Y_hat ,'r', label='model')\n",
    "# plt.plot(t1, np.dot(W.T, X.T),'r', label='model')\n",
    "# plt.plot(np.linspace(np.amin(data_V_X), np.amax(data_V_Y), 1000), np.dot(datX_V, W),'m', label='Validation')\n",
    "# plt.plot(np.arange(-1, 1, 0.01), np.dot(datX, W),'r', label='model')\n",
    "plt.legend()\n",
    "plt.show() "
   ]
  },
  {
   "cell_type": "code",
   "execution_count": 18,
   "id": "5abf4c2a",
   "metadata": {},
   "outputs": [],
   "source": [
    "# Evaluation of objective function\n",
    "def Loss_f(data_,predic):    \n",
    "    return np.dot(np.subtract(data_,predic).T,np.subtract(data_,predic))/2"
   ]
  },
  {
   "cell_type": "code",
   "execution_count": 19,
   "id": "6a39efa0",
   "metadata": {},
   "outputs": [
    {
     "data": {
      "text/plain": [
       "(50,)"
      ]
     },
     "execution_count": 19,
     "metadata": {},
     "output_type": "execute_result"
    }
   ],
   "source": [
    "data_Y.shape"
   ]
  },
  {
   "cell_type": "code",
   "execution_count": 20,
   "id": "e7e327e5",
   "metadata": {},
   "outputs": [
    {
     "data": {
      "text/plain": [
       "(50,)"
      ]
     },
     "execution_count": 20,
     "metadata": {},
     "output_type": "execute_result"
    }
   ],
   "source": [
    "predic.shape"
   ]
  },
  {
   "cell_type": "code",
   "execution_count": 21,
   "id": "56f37022",
   "metadata": {},
   "outputs": [
    {
     "data": {
      "text/plain": [
       "161.86892707916365"
      ]
     },
     "execution_count": 21,
     "metadata": {},
     "output_type": "execute_result"
    }
   ],
   "source": [
    "MSE = Loss_f(data_Y,predic)\n",
    "MSE"
   ]
  },
  {
   "cell_type": "markdown",
   "id": "58bd19c8",
   "metadata": {},
   "source": [
    "# #Question 1.a) RMSE Train et validation"
   ]
  },
  {
   "cell_type": "code",
   "execution_count": 22,
   "id": "399440d0",
   "metadata": {},
   "outputs": [
    {
     "name": "stdout",
     "output_type": "stream",
     "text": [
      " The RMSE of the trainnig data is: 2.5445543977613343\n",
      " The RMSE of the validation data is: 37.609758670829926\n"
     ]
    }
   ],
   "source": [
    "MSE = Loss_f(data_Y,predic)\n",
    "RMSE = np.sqrt((2*MSE)/50)\n",
    "MSE_V = Loss_f(data_V_Y,predic_V)\n",
    "RMSE_V = np.sqrt((2*MSE_V)/50)\n",
    "print(\" The RMSE of the trainnig data is:\",RMSE) \n",
    "print(\" The RMSE of the validation data is:\",RMSE_V) "
   ]
  },
  {
   "cell_type": "code",
   "execution_count": 23,
   "id": "691d7697",
   "metadata": {},
   "outputs": [],
   "source": [
    "def Regularization(X, y, lamd):\n",
    "    WR = np.dot(np.linalg.inv(np.add((np.dot(X.T,X)),lamd * np.identity(21))), np.dot(X.T,y))\n",
    "    return WR"
   ]
  },
  {
   "cell_type": "code",
   "execution_count": 24,
   "id": "af66810b",
   "metadata": {},
   "outputs": [],
   "source": [
    "def PlotRMSE(dat_x, dat_y,data_yva,XPV,XPD):\n",
    "    Q = np.arange(0.01,1.01,0.01)\n",
    "#     Q = np.logspace(-4,0,20)\n",
    "    SmallRMSE = 4\n",
    "    lamb = 1\n",
    "    for lambVal in Q:\n",
    "        wList = Regularization(dat_x, dat_y, lambVal)\n",
    "        datMSE = np.dot(np.subtract(dat_y,np.dot(XPD,wList)).T,np.subtract(dat_y,np.dot(XPD,wList)))/2\n",
    "        valMSE = np.dot(np.subtract(data_yva,XPV.dot(wList)).T,np.subtract(data_yva,XPV.dot(wList)))/2        \n",
    "        valRMSE = np.sqrt((2*valMSE)/50)\n",
    "        datRMSE = np.sqrt((2*datMSE)/50)\n",
    "        if SmallRMSE > valRMSE:\n",
    "            SmallRMSE = valRMSE\n",
    "            lamb = lambVal\n",
    "        plotRMSEvalid = plt.plot(lambVal,valRMSE,\"ro\", label='validation RMSE')\n",
    "        ploRMSEModel = plt.plot(lambVal,datRMSE,\"go\", label='Training RMSE')\n",
    "    plt.xlabel(\"lambda\")\n",
    "    plt.ylabel(\"RMSE\")\n",
    "    plt.title(\"L2 Regularization RMSE vs Lambda\")\n",
    "    plt.legend([\"Validation RMSE\",\"Training RMSE\"])\n",
    "#     plt.xscale('log')\n",
    "    plt.show()    \n",
    "#     print( \"Best RMSE validation is :\", SmallRMSE)\n",
    "    return print( \"Best Lambda is \",lamb, \" and RMSE validation is :\",SmallRMSE)     "
   ]
  },
  {
   "cell_type": "markdown",
   "id": "dc7c70d7",
   "metadata": {},
   "source": [
    "# #Question 2.a).b) Plot Train RMSE, Validation RMSE et Best lambda"
   ]
  },
  {
   "cell_type": "code",
   "execution_count": 25,
   "id": "bf6418b6",
   "metadata": {
    "scrolled": true
   },
   "outputs": [
    {
     "data": {
      "image/png": "[encoded data removed]",
      "text/plain": [
       "<Figure size 432x288 with 1 Axes>"
      ]
     },
     "metadata": {
      "needs_background": "light"
     },
     "output_type": "display_data"
    },
    {
     "name": "stdout",
     "output_type": "stream",
     "text": [
      "Best Lambda is  0.02  and RMSE validation is : 3.022432593904204\n"
     ]
    }
   ],
   "source": [
    "PlotRMSE(X_P,data_Y,data_V_Y,X_V_P,X_P)"
   ]
  },
  {
   "cell_type": "markdown",
   "id": "f32ca9d2",
   "metadata": {},
   "source": [
    "# #Question 2.c) Aperçu du model apres regularisation"
   ]
  },
  {
   "cell_type": "code",
   "execution_count": 26,
   "id": "db2fa8a8",
   "metadata": {
    "scrolled": true
   },
   "outputs": [
    {
     "data": {
      "image/png": "[encoded data removed]",
      "text/plain": [
       "<Figure size 432x288 with 1 Axes>"
      ]
     },
     "metadata": {
      "needs_background": "light"
     },
     "output_type": "display_data"
    }
   ],
   "source": [
    "lamd = 0.02\n",
    "wList=np.dot(np.linalg.inv(np.add((np.dot(X_P.T,X_P)),lamd * np.identity(21))), np.dot(X_P.T,data_Y))\n",
    "\n",
    "# Model training \n",
    "input_X = inputX()\n",
    "# L= np.arange(np.amin(data),np.amax(data),0.9)\n",
    "# L= np.arange(-1,1,0.01)\n",
    "Y_hat = np.dot(input_X.T, wList)\n",
    "# Y_hat = X_P.dot( W)\n",
    "plt.title(\"Best model\") \n",
    "plt.xlabel(\"x axis\") \n",
    "plt.ylabel(\"y axis\") \n",
    "plt.plot(data_X,data_Y,\"ob\", label='Train') \n",
    "plt.plot(data_V_X,data_V_Y,\"+g\", label='Validation') \n",
    "plt.plot(np.linspace(np.amin(data_X), np.amax(data_X), 1000), Y_hat ,'r', label='model')\n",
    "# plt.plot(L, Y_hat ,'r', label='model')\n",
    "# plt.plot(t1, np.dot(W.T, X.T),'r', label='model')\n",
    "# plt.plot(np.linspace(np.amin(data_V_X), np.amax(data_V_Y), 1000), np.dot(datX_V, W),'m', label='Validation')\n",
    "# plt.plot(np.arange(-1, 1, 0.01), np.dot(datX, W),'r', label='model')\n",
    "plt.legend()\n",
    "plt.show() "
   ]
  },
  {
   "cell_type": "markdown",
   "id": "b44cb5d3",
   "metadata": {},
   "source": [
    "# #Question 2.c) Test RMSE"
   ]
  },
  {
   "cell_type": "code",
   "execution_count": 27,
   "id": "908b246a",
   "metadata": {},
   "outputs": [
    {
     "name": "stdout",
     "output_type": "stream",
     "text": [
      " The RMSE of the Testing data is: 3.275701207516866\n"
     ]
    }
   ],
   "source": [
    "predic_T = predict(X_T_P,wList)\n",
    "MSE = Loss_f(data_T_Y,predic_T)\n",
    "RMSE = np.sqrt((2*MSE)/50)\n",
    "print(\" The RMSE of the Testing data is:\",RMSE) "
   ]
  }
 ],
 "metadata": {
  "kernelspec": {
   "display_name": "Python 3 (ipykernel)",
   "language": "python",
   "name": "python3"
  },
  "language_info": {
   "codemirror_mode": {
    "name": "ipython",
    "version": 3
   },
   "file_extension": ".py",
   "mimetype": "text/x-python",
   "name": "python",
   "nbconvert_exporter": "python",
   "pygments_lexer": "ipython3",
   "version": "3.7.11"
  }
 },
 "nbformat": 4,
 "nbformat_minor": 5
}
