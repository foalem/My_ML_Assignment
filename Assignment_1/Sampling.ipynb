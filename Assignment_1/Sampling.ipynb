{
 "cells": [
  {
   "cell_type": "code",
   "execution_count": 1,
   "id": "72d0ffe0",
   "metadata": {},
   "outputs": [],
   "source": [
    "import random"
   ]
  },
  {
   "cell_type": "code",
   "execution_count": 2,
   "id": "8382c58c",
   "metadata": {},
   "outputs": [],
   "source": [
    "# pseudocode implimentation\n",
    "def sampling():\n",
    "        M = random.random()\n",
    "        if 0 <= M and M <0.1:\n",
    "            print('PLAYING')\n",
    "        elif  0.1 <= M and M < 0.3:\n",
    "            print('MOVIES')\n",
    "        elif 0.3 <= M and M < 0.6:\n",
    "            print('STUDYING')\n",
    "        else :\n",
    "            print('INF 8245E')"
   ]
  },
  {
   "cell_type": "code",
   "execution_count": 3,
   "id": "df88a041",
   "metadata": {},
   "outputs": [
    {
     "name": "stdout",
     "output_type": "stream",
     "text": [
      "STUDYING\n"
     ]
    }
   ],
   "source": [
    "sampling()"
   ]
  },
  {
   "cell_type": "code",
   "execution_count": 4,
   "id": "8a2a9fb2",
   "metadata": {},
   "outputs": [],
   "source": [
    "def sampling_2(Nb):\n",
    "    NbP = 0\n",
    "    NbM = 0\n",
    "    NbS = 0\n",
    "    NbI = 0\n",
    "    for i in range(Nb):\n",
    "        M = random.random()\n",
    "        if 0 <= M and M <0.1:\n",
    "            NbP+=1\n",
    "#             print('PLAYING')\n",
    "        elif  0.1 <= M and M < 0.3:\n",
    "            NbM+=1\n",
    "#             print('MOVIES')\n",
    "        elif 0.3 <= M and M < 0.6:\n",
    "#             print('STUDYING')\n",
    "            NbS+=1\n",
    "        else :\n",
    "#             print('INF 8245E')\n",
    "            NbI+=1\n",
    "    print(\"Number of Playing days: %f \\nNumber of Movies days: %f \\nNumber of Studying days: %f \\nNumber of INF8245E days: %f\" %(NbP/Nb,NbM/Nb,NbS/Nb,NbI/Nb))"
   ]
  },
  {
   "cell_type": "code",
   "execution_count": 5,
   "id": "d85c8bd3",
   "metadata": {
    "scrolled": true
   },
   "outputs": [
    {
     "name": "stdout",
     "output_type": "stream",
     "text": [
      "Number of Playing days: 0.090000 \n",
      "Number of Movies days: 0.180000 \n",
      "Number of Studying days: 0.350000 \n",
      "Number of INF8245E days: 0.380000\n"
     ]
    }
   ],
   "source": [
    "sampling_2(100)"
   ]
  },
  {
   "cell_type": "code",
   "execution_count": 6,
   "id": "67606cc6",
   "metadata": {},
   "outputs": [
    {
     "name": "stdout",
     "output_type": "stream",
     "text": [
      "Number of Playing days: 0.096000 \n",
      "Number of Movies days: 0.204000 \n",
      "Number of Studying days: 0.309000 \n",
      "Number of INF8245E days: 0.391000\n"
     ]
    }
   ],
   "source": [
    "sampling_2(1000)"
   ]
  }
 ],
 "metadata": {
  "kernelspec": {
   "display_name": "Python 3 (ipykernel)",
   "language": "python",
   "name": "python3"
  },
  "language_info": {
   "codemirror_mode": {
    "name": "ipython",
    "version": 3
   },
   "file_extension": ".py",
   "mimetype": "text/x-python",
   "name": "python",
   "nbconvert_exporter": "python",
   "pygments_lexer": "ipython3",
   "version": "3.9.7"
  }
 },
 "nbformat": 4,
 "nbformat_minor": 5
}
