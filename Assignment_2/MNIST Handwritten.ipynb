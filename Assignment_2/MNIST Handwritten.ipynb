{
 "cells": [
  {
   "cell_type": "code",
   "execution_count": 1,
   "id": "4f139348",
   "metadata": {},
   "outputs": [],
   "source": [
    "import numpy as np\n",
    "import pandas as pd\n",
    "from sklearn.metrics import classification_report,confusion_matrix,f1_score,accuracy_score\n",
    "import math\n",
    "from scipy.stats import mode\n",
    "import matplotlib.pyplot as plt"
   ]
  },
  {
   "cell_type": "code",
   "execution_count": 2,
   "id": "1708f2d4",
   "metadata": {},
   "outputs": [],
   "source": [
    "from scipy.stats import multivariate_normal"
   ]
  },
  {
   "cell_type": "code",
   "execution_count": 3,
   "id": "fd17f216",
   "metadata": {},
   "outputs": [],
   "source": [
    "#Import Keras\n",
    "from tensorflow import keras\n",
    "# Loading the MNIST dataset"
   ]
  },
  {
   "cell_type": "code",
   "execution_count": 4,
   "id": "2ddf83ce",
   "metadata": {},
   "outputs": [],
   "source": [
    "# Loading the MNIST dataset\n",
    "(x_train, y_train), (x_test, y_test) = keras.datasets.mnist.load_data()"
   ]
  },
  {
   "cell_type": "code",
   "execution_count": 5,
   "id": "60dca84d",
   "metadata": {},
   "outputs": [
    {
     "data": {
      "text/plain": [
       "(60000, 28, 28)"
      ]
     },
     "execution_count": 5,
     "metadata": {},
     "output_type": "execute_result"
    }
   ],
   "source": [
    "x_train.shape"
   ]
  },
  {
   "cell_type": "code",
   "execution_count": 6,
   "id": "6eec2358",
   "metadata": {},
   "outputs": [
    {
     "name": "stdout",
     "output_type": "stream",
     "text": [
      "8\n"
     ]
    },
    {
     "data": {
      "text/plain": [
       "<matplotlib.image.AxesImage at 0x2cf2f92d688>"
      ]
     },
     "execution_count": 6,
     "metadata": {},
     "output_type": "execute_result"
    },
    {
     "data": {
      "image/png": "[encoded data removed]",
      "text/plain": [
       "<Figure size 432x288 with 1 Axes>"
      ]
     },
     "metadata": {
      "needs_background": "light"
     },
     "output_type": "display_data"
    }
   ],
   "source": [
    "# %matplotlib inline # Only use this if using iPython\n",
    "image_index = 7777 # You may select anything up to 60,000\n",
    "print(y_train[image_index]) # The label is 8\n",
    "plt.imshow(x_train[image_index], cmap='Greys')"
   ]
  },
  {
   "cell_type": "code",
   "execution_count": 7,
   "id": "73632179",
   "metadata": {},
   "outputs": [
    {
     "name": "stdout",
     "output_type": "stream",
     "text": [
      "Number of training examples : 60000 and each image is of shape (28, 28)\n",
      "Number of training examples : 10000 and each image is of shape (28, 28)\n"
     ]
    }
   ],
   "source": [
    "\n",
    "print(\"Number of training examples :\", x_train.shape[0], \"and each image is of shape (%d, %d)\"%(x_train.shape[1], x_train.shape[2]))\n",
    "print(\"Number of training examples :\", x_test.shape[0], \"and each image is of shape (%d, %d)\"%(x_test.shape[1], x_test.shape[2]))"
   ]
  },
  {
   "cell_type": "code",
   "execution_count": 8,
   "id": "299db5a2",
   "metadata": {},
   "outputs": [],
   "source": [
    "# we will convert the (28*28) vector into single dimensional vector of 1 * 784 \n",
    "\n",
    "X_train = x_train.reshape(x_train.shape[0], x_train.shape[1]*x_train.shape[2]) \n",
    "X_test = x_test.reshape(x_test.shape[0], x_test.shape[1]*x_test.shape[2])"
   ]
  },
  {
   "cell_type": "code",
   "execution_count": 9,
   "id": "9cc93fb3",
   "metadata": {},
   "outputs": [],
   "source": [
    "train_x= X_train / 255\n",
    "test_x= X_test / 255"
   ]
  },
  {
   "cell_type": "code",
   "execution_count": 10,
   "id": "da2fae28",
   "metadata": {},
   "outputs": [
    {
     "data": {
      "text/plain": [
       "((60000, 785), (10000, 785))"
      ]
     },
     "execution_count": 10,
     "metadata": {},
     "output_type": "execute_result"
    }
   ],
   "source": [
    "Train = np.c_[train_x,y_train]\n",
    "Test = np.c_[test_x,y_test]\n",
    "Train.shape, Test.shape"
   ]
  },
  {
   "cell_type": "code",
   "execution_count": 12,
   "id": "df58810c",
   "metadata": {},
   "outputs": [],
   "source": [
    "size = 50000\n",
    "Train_Data, Val_Data = Train[:int(size),:], Train[int(size):,:]"
   ]
  },
  {
   "cell_type": "code",
   "execution_count": 13,
   "id": "1ae2361d",
   "metadata": {},
   "outputs": [
    {
     "data": {
      "text/plain": [
       "((50000, 785), (10000, 785))"
      ]
     },
     "execution_count": 13,
     "metadata": {},
     "output_type": "execute_result"
    }
   ],
   "source": [
    "Train_Data.shape, Val_Data.shape"
   ]
  },
  {
   "cell_type": "code",
   "execution_count": 14,
   "id": "2f625b2d",
   "metadata": {},
   "outputs": [
    {
     "data": {
      "text/plain": [
       "(50000, 785)"
      ]
     },
     "execution_count": 14,
     "metadata": {},
     "output_type": "execute_result"
    }
   ],
   "source": [
    "Train_Data.shape"
   ]
  },
  {
   "cell_type": "code",
   "execution_count": 15,
   "id": "c191db72",
   "metadata": {},
   "outputs": [
    {
     "data": {
      "text/plain": [
       "(50000,)"
      ]
     },
     "execution_count": 15,
     "metadata": {},
     "output_type": "execute_result"
    }
   ],
   "source": [
    "Train_Data[:  :,-1].shape"
   ]
  },
  {
   "cell_type": "code",
   "execution_count": 16,
   "id": "7db41cfa",
   "metadata": {},
   "outputs": [
    {
     "data": {
      "text/plain": [
       "array([3., 8., 6., ..., 5., 6., 8.])"
      ]
     },
     "execution_count": 16,
     "metadata": {},
     "output_type": "execute_result"
    }
   ],
   "source": [
    "Val_Data[: , :784]\n",
    "Val_Data[:  :,-1]"
   ]
  },
  {
   "cell_type": "code",
   "execution_count": 17,
   "id": "ea1f434c",
   "metadata": {},
   "outputs": [],
   "source": [
    "X,y = Train_Data[:, 1:size], Train_Data[:,-1]"
   ]
  },
  {
   "cell_type": "code",
   "execution_count": 18,
   "id": "c7c9a428",
   "metadata": {},
   "outputs": [
    {
     "data": {
      "text/plain": [
       "array([0., 1., 2., 3., 4., 5., 6., 7., 8., 9.])"
      ]
     },
     "execution_count": 18,
     "metadata": {},
     "output_type": "execute_result"
    }
   ],
   "source": [
    "classes = np.unique(y)\n",
    "classes"
   ]
  },
  {
   "cell_type": "code",
   "execution_count": 19,
   "id": "55187334",
   "metadata": {},
   "outputs": [
    {
     "data": {
      "text/plain": [
       "array([3., 8., 6., ..., 5., 6., 8.])"
      ]
     },
     "execution_count": 19,
     "metadata": {},
     "output_type": "execute_result"
    }
   ],
   "source": [
    "Train_Data[: , :784]\n",
    "Train_Data[:  :,-1]\n",
    "Val_Data[: , :784]\n",
    "Val_Data[:  :,-1]"
   ]
  },
  {
   "cell_type": "code",
   "execution_count": 20,
   "id": "066ee385",
   "metadata": {},
   "outputs": [
    {
     "data": {
      "text/plain": [
       "array([7., 2., 1., ..., 4., 5., 6.])"
      ]
     },
     "execution_count": 20,
     "metadata": {},
     "output_type": "execute_result"
    }
   ],
   "source": [
    "Test[: , :784]\n",
    "Test[:  :,-1]"
   ]
  },
  {
   "cell_type": "code",
   "execution_count": 21,
   "id": "89015bd2",
   "metadata": {},
   "outputs": [
    {
     "data": {
      "text/plain": [
       "(784,)"
      ]
     },
     "execution_count": 21,
     "metadata": {},
     "output_type": "execute_result"
    }
   ],
   "source": [
    "Train_X = Train_Data[: , :784]\n",
    "Train_X[2].shape"
   ]
  },
  {
   "cell_type": "code",
   "execution_count": 22,
   "id": "bbd0de2a",
   "metadata": {},
   "outputs": [
    {
     "data": {
      "text/plain": [
       "array([0., 1., 2., 3., 4., 5., 6., 7., 8., 9.])"
      ]
     },
     "execution_count": 22,
     "metadata": {},
     "output_type": "execute_result"
    }
   ],
   "source": [
    "classes = np.unique(Train[:,-1])\n",
    "classes"
   ]
  },
  {
   "cell_type": "code",
   "execution_count": 26,
   "id": "c9301ae5",
   "metadata": {},
   "outputs": [],
   "source": [
    "def GNB_Parameter (Train):\n",
    "    W = []\n",
    "    priors = dict()\n",
    "    means = dict()\n",
    "#     covs = dict()\n",
    "#     var_ = dict()\n",
    "    sigma = dict()\n",
    "    sigma_ = dict()\n",
    "    Train_X = Train[: , :784]\n",
    "    Train_Y = Train[:,-1]\n",
    "    classes = np.unique(Train_Y)\n",
    "    condition = classes. astype(int)\n",
    "    for c in condition:\n",
    "        X_c = Train_X[Train_Y == c]\n",
    "        print(X_c.shape)\n",
    "        priors[c] = X_c.shape[0] / Train_Y.shape[0]\n",
    "        means[c] = np.mean(X_c, axis=0)\n",
    "        sigma_[c] = np.cov(X_c.T)\n",
    "    return priors,means,X_c,sigma_,condition"
   ]
  },
  {
   "cell_type": "markdown",
   "id": "7c3225c0",
   "metadata": {},
   "source": [
    "# 1.b)"
   ]
  },
  {
   "cell_type": "code",
   "execution_count": 27,
   "id": "2fa5b3a1",
   "metadata": {
    "scrolled": true
   },
   "outputs": [
    {
     "name": "stdout",
     "output_type": "stream",
     "text": [
      "(4932, 784)\n",
      "(5678, 784)\n",
      "(4968, 784)\n",
      "(5101, 784)\n",
      "(4859, 784)\n",
      "(4506, 784)\n",
      "(4951, 784)\n",
      "(5175, 784)\n",
      "(4842, 784)\n",
      "(4988, 784)\n"
     ]
    }
   ],
   "source": [
    "prio,mean,c,sigma_,cond = GNB_Parameter(Train_Data)"
   ]
  },
  {
   "cell_type": "code",
   "execution_count": 25,
   "id": "fe930c4e",
   "metadata": {},
   "outputs": [],
   "source": [
    "X_test = Test[: , :784]\n",
    "Y_test = Test[:  :,-1]"
   ]
  },
  {
   "cell_type": "code",
   "execution_count": 28,
   "id": "8f33d931",
   "metadata": {},
   "outputs": [],
   "source": [
    "def predict(X, Z, Mean, Class):\n",
    "    res = np.zeros(X.shape[0])\n",
    "    for i in range(X.shape[0]):\n",
    "        pred = np.zeros(len(Class))\n",
    "#         pri = np.zeros(len(Class))\n",
    "        for j in range(10):\n",
    "#             pri[j]= prio[j]\n",
    "            pred[j] = multivariate_normal.logpdf(X[i], Mean[j], Z[j],allow_singular=True)\n",
    "        res[i] = np.argmax(pred)\n",
    "    return res"
   ]
  },
  {
   "cell_type": "code",
   "execution_count": null,
   "id": "28ebc35f",
   "metadata": {},
   "outputs": [],
   "source": [
    "predic = predict(X_test,sigma_,mean,cond)"
   ]
  },
  {
   "cell_type": "code",
   "execution_count": 105,
   "id": "74929ab9",
   "metadata": {},
   "outputs": [
    {
     "data": {
      "text/plain": [
       "(10000,)"
      ]
     },
     "execution_count": 105,
     "metadata": {},
     "output_type": "execute_result"
    }
   ],
   "source": [
    "predic.shape"
   ]
  },
  {
   "cell_type": "code",
   "execution_count": 107,
   "id": "c2773728",
   "metadata": {},
   "outputs": [
    {
     "name": "stdout",
     "output_type": "stream",
     "text": [
      "              precision    recall  f1-score   support\n",
      "\n",
      "     class 0       0.96      0.89      0.93       980\n",
      "     class 1       0.98      0.92      0.95      1135\n",
      "     class 2       0.76      0.95      0.84      1032\n",
      "     class 3       0.81      0.90      0.85      1010\n",
      "     class 4       0.87      0.93      0.90       982\n",
      "     class 5       0.91      0.81      0.86       892\n",
      "     class 6       0.98      0.89      0.93       958\n",
      "     class 7       0.92      0.90      0.91      1028\n",
      "     class 8       0.82      0.84      0.83       974\n",
      "     class 9       0.95      0.82      0.88      1009\n",
      "\n",
      "    accuracy                           0.89     10000\n",
      "   macro avg       0.89      0.89      0.89     10000\n",
      "weighted avg       0.89      0.89      0.89     10000\n",
      "\n"
     ]
    }
   ],
   "source": [
    "target_names = ['class 0', 'class 1','class 2', 'class 3','class 4', 'class 5','class 6', 'class 7','class 8','class 9']\n",
    "GDA_classification_report=classification_report(Y_test, predic, target_names=target_names)\n",
    "print(GDA_classification_report)"
   ]
  },
  {
   "cell_type": "code",
   "execution_count": 28,
   "id": "4eb5f10b",
   "metadata": {},
   "outputs": [],
   "source": [
    "with open(\"DatasetsDS1/Assignment2_2134563_section2_sub-Question1_sub-sub-question-b_CovarianceMatrix.txt\", 'w') as f: \n",
    "    for key, value in sigma_.items(): \n",
    "        f.write('%s:%s\\n' % (key, value))"
   ]
  },
  {
   "cell_type": "code",
   "execution_count": 29,
   "id": "9147f14a",
   "metadata": {},
   "outputs": [],
   "source": [
    "with open(\"DatasetsDS1/Assignment2_2134563_section2_sub-Question1_sub-sub-question-b_Prio_class_probability.txt\", 'w') as f: \n",
    "    for key, value in prio.items(): \n",
    "        f.write('%s:%s\\n' % (key, value))"
   ]
  },
  {
   "cell_type": "code",
   "execution_count": 30,
   "id": "09ef93fe",
   "metadata": {},
   "outputs": [],
   "source": [
    "with open(\"DatasetsDS1/Assignment2_2134563_section2_sub-Question1_sub-sub-question-b_mean.txt\", 'w') as f: \n",
    "    for key, value in mean.items(): \n",
    "        f.write('%s:%s\\n' % (key, value))"
   ]
  },
  {
   "cell_type": "markdown",
   "id": "ebc8d113",
   "metadata": {},
   "source": [
    "# KNN"
   ]
  },
  {
   "cell_type": "code",
   "execution_count": 22,
   "id": "356d5c8b",
   "metadata": {},
   "outputs": [],
   "source": [
    "Train_X = Train_Data[: , :784]\n",
    "Train_Y = Train_Data[:  :,-1]\n",
    "Train_XV = Val_Data[: , :784]\n",
    "Train_YV = Val_Data[:  :,-1]\n",
    "Test_X = Test[: , :784]\n",
    "Test_Y = Test[:  :,-1]"
   ]
  },
  {
   "cell_type": "code",
   "execution_count": 29,
   "id": "75cd4c30",
   "metadata": {},
   "outputs": [],
   "source": [
    "def kNN(x, k, data, label):\n",
    "    distances =[np.linalg.norm(x-data[i]) for i in range(len(data))]\n",
    "    idx = np.argpartition(distances, k)\n",
    "    clas, freq = np.unique(label[idx[:k]], return_counts=True)\n",
    "    return clas[np.argmax(freq)]"
   ]
  },
  {
   "cell_type": "code",
   "execution_count": 31,
   "id": "5884e7e6",
   "metadata": {},
   "outputs": [],
   "source": [
    "prec = kNN(Test_X, 4,Train_X,Train_Y)"
   ]
  },
  {
   "cell_type": "code",
   "execution_count": 33,
   "id": "6dbd898e",
   "metadata": {},
   "outputs": [
    {
     "data": {
      "text/plain": [
       "9.0"
      ]
     },
     "execution_count": 33,
     "metadata": {},
     "output_type": "execute_result"
    }
   ],
   "source": [
    "prec"
   ]
  },
  {
   "cell_type": "code",
   "execution_count": 24,
   "id": "33556e03",
   "metadata": {},
   "outputs": [
    {
     "name": "stdout",
     "output_type": "stream",
     "text": [
      "The predicted value is :  3.0  and the true value is  3.0\n"
     ]
    }
   ],
   "source": [
    "i=51\n",
    "print('The predicted value is : ', \n",
    "      kNN(Test_X[i], 5, Train_X, Train_Y), \n",
    "      ' and the true value is ', \n",
    "      Test_Y[i])"
   ]
  },
  {
   "cell_type": "code",
   "execution_count": 25,
   "id": "ec85b5f2",
   "metadata": {},
   "outputs": [],
   "source": [
    "def accuracy_set(data, label, train_data, train_label, k):\n",
    "    cnt = 0\n",
    "    for x, lab in zip(data,label):\n",
    "        if kNN(x,k, train_data, train_label) == lab:\n",
    "            cnt += 1\n",
    "    return cnt/len(label)"
   ]
  },
  {
   "cell_type": "code",
   "execution_count": 30,
   "id": "9fd8d181",
   "metadata": {},
   "outputs": [
    {
     "data": {
      "text/plain": [
       "0.9658"
      ]
     },
     "execution_count": 30,
     "metadata": {},
     "output_type": "execute_result"
    }
   ],
   "source": [
    "k_acc = accuracy_set(Test_X, Test_Y, Train_X, Train_Y, 4)\n",
    "k_acc"
   ]
  },
  {
   "cell_type": "code",
   "execution_count": 28,
   "id": "d4c41af6",
   "metadata": {
    "scrolled": true
   },
   "outputs": [
    {
     "data": {
      "text/plain": [
       "[0.9712, 0.9667, 0.972, 0.9726, 0.9718, 0.971, 0.9708, 0.9708, 0.9705]"
      ]
     },
     "execution_count": 28,
     "metadata": {},
     "output_type": "execute_result"
    }
   ],
   "source": [
    "k_acc = [accuracy_set(Train_XV, Train_YV, Train_X, Train_Y, k) for k in range(1,10)]\n",
    "k_acc"
   ]
  },
  {
   "cell_type": "code",
   "execution_count": 29,
   "id": "078938b2",
   "metadata": {},
   "outputs": [
    {
     "data": {
      "text/plain": [
       "[<matplotlib.lines.Line2D at 0x1bdd3a9a448>]"
      ]
     },
     "execution_count": 29,
     "metadata": {},
     "output_type": "execute_result"
    },
    {
     "data": {
      "image/png": "[encoded data removed]",
      "text/plain": [
       "<Figure size 720x360 with 1 Axes>"
      ]
     },
     "metadata": {
      "needs_background": "light"
     },
     "output_type": "display_data"
    }
   ],
   "source": [
    "X = [k for k in range(1,10)]\n",
    "plt.figure(figsize = (10,5))\n",
    "plt.xlabel(\"k\")\n",
    "plt.ylabel(\"Accuracy\")\n",
    "plt.ylim(0,1)\n",
    "plt.plot(X,k_acc)"
   ]
  },
  {
   "cell_type": "code",
   "execution_count": 26,
   "id": "87649bc6",
   "metadata": {},
   "outputs": [
    {
     "data": {
      "text/plain": [
       "0.9658"
      ]
     },
     "execution_count": 26,
     "metadata": {},
     "output_type": "execute_result"
    }
   ],
   "source": [
    "k_acc = accuracy_set(Test_X, Test_Y, Train_X, Train_Y, 4)\n",
    "k_acc"
   ]
  },
  {
   "cell_type": "code",
   "execution_count": 27,
   "id": "2db05638",
   "metadata": {},
   "outputs": [
    {
     "data": {
      "text/plain": [
       "0.9681"
      ]
     },
     "execution_count": 27,
     "metadata": {},
     "output_type": "execute_result"
    }
   ],
   "source": [
    "k_acc = accuracy_set(Test_X, Test_Y, Train_X, Train_Y, 3)\n",
    "k_acc"
   ]
  },
  {
   "cell_type": "code",
   "execution_count": null,
   "id": "ad3a7e81",
   "metadata": {},
   "outputs": [],
   "source": [
    "k_acc = accuracy_set(Test_X, Test_Y, Train_X, Train_Y, 3)\n",
    "k_acc"
   ]
  }
 ],
 "metadata": {
  "kernelspec": {
   "display_name": "Python 3 (ipykernel)",
   "language": "python",
   "name": "python3"
  },
  "language_info": {
   "codemirror_mode": {
    "name": "ipython",
    "version": 3
   },
   "file_extension": ".py",
   "mimetype": "text/x-python",
   "name": "python",
   "nbconvert_exporter": "python",
   "pygments_lexer": "ipython3",
   "version": "3.7.11"
  }
 },
 "nbformat": 4,
 "nbformat_minor": 5
}
