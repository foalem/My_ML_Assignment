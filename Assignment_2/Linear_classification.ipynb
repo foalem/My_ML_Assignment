{
 "cells": [
  {
   "cell_type": "code",
   "execution_count": 1,
   "id": "f8ec280f",
   "metadata": {},
   "outputs": [],
   "source": [
    "import numpy as np\n",
    "import pandas as pd\n",
    "from sklearn.metrics import classification_report,confusion_matrix,f1_score\n",
    "import math\n",
    "from scipy.stats import mode\n",
    "import matplotlib.pyplot as plt"
   ]
  },
  {
   "cell_type": "code",
   "execution_count": 179,
   "id": "74168371",
   "metadata": {},
   "outputs": [
    {
     "data": {
      "text/plain": [
       "(20,)"
      ]
     },
     "execution_count": 179,
     "metadata": {},
     "output_type": "execute_result"
    }
   ],
   "source": [
    "mean_0 = np.genfromtxt('Datasets/DS1_m_0.txt',delimiter=',')\n",
    "mean_1 = np.genfromtxt('Datasets/DS1_m_1.txt',delimiter=',')\n",
    "Cov_M = np.genfromtxt('Datasets/DS1_Cov.txt',delimiter=',')\n",
    "class_0 = np.random.multivariate_normal(mean_0, Cov_M, 2000)\n",
    "class_1 = np.random.multivariate_normal(mean_1, Cov_M, 2000)\n",
    "mean_0.shape"
   ]
  },
  {
   "cell_type": "code",
   "execution_count": 3,
   "id": "cfd2503b",
   "metadata": {},
   "outputs": [],
   "source": [
    "# Add an extract column to all the sample\n",
    "N = 2000\n",
    "class_positive = np.c_[ class_1, np.ones(N) ]  \n",
    "class_negative = np.c_[ class_0, np.zeros(N) ]  "
   ]
  },
  {
   "cell_type": "code",
   "execution_count": 4,
   "id": "4b39a4c9",
   "metadata": {},
   "outputs": [
    {
     "data": {
      "text/plain": [
       "(2000, 21)"
      ]
     },
     "execution_count": 4,
     "metadata": {},
     "output_type": "execute_result"
    }
   ],
   "source": [
    "class_positive.shape"
   ]
  },
  {
   "cell_type": "code",
   "execution_count": 5,
   "id": "5e8aaf0b",
   "metadata": {},
   "outputs": [],
   "source": [
    "size_1 = class_positive.shape[0]*6/10\n",
    "size_0 = class_negative.shape[0]*6/10"
   ]
  },
  {
   "cell_type": "code",
   "execution_count": 6,
   "id": "389f77d2",
   "metadata": {},
   "outputs": [],
   "source": [
    "training_1, validation_1, test_1 = class_positive[:int(size_1),:], class_positive[int(size_1):int(size_1)+400,:], class_positive[int(size_1)+400:,:]\n",
    "training_0, validation_0, test_0 = class_negative[:int(size_0),:], class_negative[int(size_0):int(size_0)+400,:], class_negative[int(size_0)+400:,:]"
   ]
  },
  {
   "cell_type": "markdown",
   "id": "2e97d01f",
   "metadata": {},
   "source": [
    "# 1"
   ]
  },
  {
   "cell_type": "code",
   "execution_count": 7,
   "id": "195f7277",
   "metadata": {},
   "outputs": [],
   "source": [
    "DS1 = np.concatenate((class_positive, class_negative))\n",
    "DS1_Train = np.concatenate((training_0,training_1))\n",
    "DS1_val = np.concatenate((validation_0,validation_1))\n",
    "DS1_Test = np.concatenate((test_0,test_1))\n",
    "np.savetxt(\"DatasetsDS1/DS1_Test.csv\", DS1_Test, delimiter=\",\")\n",
    "np.savetxt(\"DatasetsDS1/DS1_Val.csv\", DS1_val, delimiter=\",\")\n",
    "np.savetxt(\"DatasetsDS1/DS1_Train.csv\", DS1_Train, delimiter=\",\")\n",
    "np.savetxt(\"DatasetsDS1/DS1.csv\", DS1, delimiter=\",\")"
   ]
  },
  {
   "cell_type": "code",
   "execution_count": 8,
   "id": "c03d172b",
   "metadata": {},
   "outputs": [
    {
     "data": {
      "text/plain": [
       "((4000, 21), (2400, 21), (800, 21), (800, 21))"
      ]
     },
     "execution_count": 8,
     "metadata": {},
     "output_type": "execute_result"
    }
   ],
   "source": [
    "DS1.shape, DS1_Train.shape, DS1_val.shape, DS1_Test.shape"
   ]
  },
  {
   "cell_type": "code",
   "execution_count": 9,
   "id": "b60678c8",
   "metadata": {},
   "outputs": [],
   "source": [
    "Train = np.genfromtxt('DatasetsDS1/DS1_Train.csv',delimiter=',')\n",
    "Val = np.genfromtxt('DatasetsDS1/DS1_Val.csv',delimiter=',')\n",
    "Test = np.genfromtxt('DatasetsDS1/DS1_Test.csv',delimiter=',')"
   ]
  },
  {
   "cell_type": "code",
   "execution_count": 66,
   "id": "90d5434a",
   "metadata": {},
   "outputs": [],
   "source": [
    "def GDA_Parameter (train):\n",
    "    W = []\n",
    "    Train_X = Train[:,:20]\n",
    "    Train_Y= Train[:,-1]\n",
    "    condition = (Train_Y == 1.0)\n",
    "    mu_1 = np.true_divide(Train_X[condition].sum(axis = 0), len(Train_X[condition]))\n",
    "    mu_0 = np.true_divide(Train_X[~condition].sum(axis = 0), len(Train_X[~condition]))\n",
    "    phi = len(Train_X[condition])/len(Train_X)\n",
    "    sigma = np.true_divide((Train_X[condition] - mu_1).transpose().dot(Train_X[condition] - mu_1) + (Train_X[~condition] - mu_0).transpose().dot((Train_X[~condition] - mu_0)), len(Train_X))\n",
    "    sigma_inv = np.linalg.pinv(sigma)\n",
    "    W = -np.dot((mu_0 - mu_1).transpose(), sigma_inv)\n",
    "    W_0 =  -(-0.5*(np.dot(mu_0, sigma_inv).dot(mu_0) - np.dot(mu_1, sigma_inv).dot(mu_1)) - np.log((1.0 -phi)/phi))\n",
    "    return W, W_0, sigma, phi, mu_0, mu_1"
   ]
  },
  {
   "cell_type": "code",
   "execution_count": 68,
   "id": "04851bc8",
   "metadata": {
    "scrolled": true
   },
   "outputs": [
    {
     "data": {
      "text/plain": [
       "(array([-14.51089977,   8.53301869,   5.31942223,   3.065962  ,\n",
       "          9.79150056,   4.5956817 , -16.86631745,  24.22450509,\n",
       "         29.12842965,  -9.31624337,  13.20600686,  12.03573062,\n",
       "        -15.3430904 , -12.93508174,   5.69320012, -13.07862723,\n",
       "        -29.29098078,   6.82786823,   0.41861648,   4.99543732]),\n",
       " -27.051553944107543,\n",
       " array([[8.22133136, 5.76825745, 6.56167549, 5.5789665 , 6.20271166,\n",
       "         6.5062709 , 4.97206   , 5.72150713, 5.30619931, 5.6871412 ,\n",
       "         4.16196197, 5.48655254, 7.63174348, 6.2888247 , 6.51824858,\n",
       "         6.4424403 , 6.14096207, 6.01331498, 5.87009845, 6.56196641],\n",
       "        [5.76825745, 6.93961029, 5.62002449, 4.61998733, 5.73414022,\n",
       "         5.75202171, 4.54263409, 4.07999252, 4.35219326, 5.2432717 ,\n",
       "         3.55111305, 4.71567391, 6.20401893, 5.29692784, 5.7306298 ,\n",
       "         5.46458785, 5.79120486, 5.25595873, 5.50202449, 5.76247059],\n",
       "        [6.56167549, 5.62002449, 7.7378969 , 5.32534504, 6.14370613,\n",
       "         6.93770383, 4.9032405 , 5.11690704, 5.09995049, 5.41428545,\n",
       "         3.45684711, 4.89011448, 6.87831371, 5.44024146, 6.54203719,\n",
       "         6.35728515, 6.48934508, 5.30332064, 4.9700443 , 5.65516162],\n",
       "        [5.5789665 , 4.61998733, 5.32534504, 6.22744449, 5.61159107,\n",
       "         4.85798299, 3.99430086, 4.69931902, 3.70932127, 4.56510765,\n",
       "         2.96428282, 4.42755002, 6.36112347, 5.19295767, 5.24779043,\n",
       "         5.48973072, 5.02391618, 4.92240018, 4.22514216, 6.33997469],\n",
       "        [6.20271166, 5.73414022, 6.14370613, 5.61159107, 7.33667636,\n",
       "         5.72457199, 5.28304106, 4.63071728, 4.94623617, 5.48328272,\n",
       "         4.31497236, 5.2377642 , 6.66730017, 6.17849403, 6.37265201,\n",
       "         6.56440607, 6.19729058, 5.48171857, 5.68564344, 6.26595097],\n",
       "        [6.5062709 , 5.75202171, 6.93770383, 4.85798299, 5.72457199,\n",
       "         7.01941682, 4.72333943, 5.10485419, 4.97219273, 5.63337391,\n",
       "         3.20340436, 4.9855143 , 6.81718128, 5.22398613, 6.18457375,\n",
       "         6.30939932, 6.12868965, 5.2238167 , 5.02472136, 5.72897055],\n",
       "        [4.97206   , 4.54263409, 4.9032405 , 3.99430086, 5.28304106,\n",
       "         4.72333943, 5.36983018, 4.05547177, 4.16625066, 4.60715954,\n",
       "         3.19374155, 4.4909045 , 5.04152751, 4.37226027, 5.01433461,\n",
       "         5.53538709, 4.53365146, 3.94472356, 4.83245035, 4.32961155],\n",
       "        [5.72150713, 4.07999252, 5.11690704, 4.69931902, 4.63071728,\n",
       "         5.10485419, 4.05547177, 6.11988335, 3.77332363, 5.10940782,\n",
       "         2.70949933, 4.9638333 , 6.47290284, 5.39181212, 5.19849422,\n",
       "         6.39671155, 4.7099775 , 5.16754509, 4.96252456, 4.92815646],\n",
       "        [5.30619931, 4.35219326, 5.09995049, 3.70932127, 4.94623617,\n",
       "         4.97219273, 4.16625066, 3.77332363, 5.11709418, 4.95552761,\n",
       "         3.28971349, 4.26689945, 5.50587619, 4.85980893, 5.20218095,\n",
       "         5.40299285, 5.25908573, 4.35982056, 4.44292698, 4.56514914],\n",
       "        [5.6871412 , 5.2432717 , 5.41428545, 4.56510765, 5.48328272,\n",
       "         5.63337391, 4.60715954, 5.10940782, 4.95552761, 7.37992533,\n",
       "         3.57932841, 4.94942162, 7.27389159, 5.51523259, 5.38080585,\n",
       "         6.26214632, 5.04031678, 5.60689361, 4.82614475, 5.84982661],\n",
       "        [4.16196197, 3.55111305, 3.45684711, 2.96428282, 4.31497236,\n",
       "         3.20340436, 3.19374155, 2.70949933, 3.28971349, 3.57932841,\n",
       "         3.46769419, 3.07752736, 4.03129743, 4.10168529, 3.80743517,\n",
       "         3.88737641, 3.77873363, 3.42962134, 3.9214832 , 3.80072112],\n",
       "        [5.48655254, 4.71567391, 4.89011448, 4.42755002, 5.2377642 ,\n",
       "         4.9855143 , 4.4909045 , 4.9638333 , 4.26689945, 4.94942162,\n",
       "         3.07752736, 5.35868569, 6.29244726, 5.22477407, 5.09122502,\n",
       "         5.80039683, 5.18880781, 5.10291523, 5.17602273, 4.91781571],\n",
       "        [7.63174348, 6.20401893, 6.87831371, 6.36112347, 6.66730017,\n",
       "         6.81718128, 5.04152751, 6.47290284, 5.50587619, 7.27389159,\n",
       "         4.03129743, 6.29244726, 9.67493794, 6.71837766, 6.77517741,\n",
       "         7.01910607, 6.40385105, 6.75177925, 6.23578805, 7.9951538 ],\n",
       "        [6.2888247 , 5.29692784, 5.44024146, 5.19295767, 6.17849403,\n",
       "         5.22398613, 4.37226027, 5.39181212, 4.85980893, 5.51523259,\n",
       "         4.10168529, 5.22477407, 6.71837766, 7.21143115, 6.21440034,\n",
       "         6.57136705, 5.90616216, 5.94144555, 6.11960627, 6.03679422],\n",
       "        [6.51824858, 5.7306298 , 6.54203719, 5.24779043, 6.37265201,\n",
       "         6.18457375, 5.01433461, 5.19849422, 5.20218095, 5.38080585,\n",
       "         3.80743517, 5.09122502, 6.77517741, 6.21440034, 7.43803817,\n",
       "         7.57754789, 6.14295646, 5.49501651, 5.76172349, 6.30984679],\n",
       "        [6.4424403 , 5.46458785, 6.35728515, 5.48973072, 6.56440607,\n",
       "         6.30939932, 5.53538709, 6.39671155, 5.40299285, 6.26214632,\n",
       "         3.88737641, 5.80039683, 7.01910607, 6.57136705, 7.57754789,\n",
       "         9.62319438, 6.13496938, 6.2566121 , 5.9322731 , 6.39766279],\n",
       "        [6.14096207, 5.79120486, 6.48934508, 5.02391618, 6.19729058,\n",
       "         6.12868965, 4.53365146, 4.7099775 , 5.25908573, 5.04031678,\n",
       "         3.77873363, 5.18880781, 6.40385105, 5.90616216, 6.14295646,\n",
       "         6.13496938, 6.87311984, 5.45067923, 5.50917214, 5.45626502],\n",
       "        [6.01331498, 5.25595873, 5.30332064, 4.92240018, 5.48171857,\n",
       "         5.2238167 , 3.94472356, 5.16754509, 4.35982056, 5.60689361,\n",
       "         3.42962134, 5.10291523, 6.75177925, 5.94144555, 5.49501651,\n",
       "         6.2566121 , 5.45067923, 6.26432515, 5.09341108, 5.57619699],\n",
       "        [5.87009845, 5.50202449, 4.9700443 , 4.22514216, 5.68564344,\n",
       "         5.02472136, 4.83245035, 4.96252456, 4.44292698, 4.82614475,\n",
       "         3.9214832 , 5.17602273, 6.23578805, 6.11960627, 5.76172349,\n",
       "         5.9322731 , 5.50917214, 5.09341108, 6.5523494 , 5.40734016],\n",
       "        [6.56196641, 5.76247059, 5.65516162, 6.33997469, 6.26595097,\n",
       "         5.72897055, 4.32961155, 4.92815646, 4.56514914, 5.84982661,\n",
       "         3.80072112, 4.91781571, 7.9951538 , 6.03679422, 6.30984679,\n",
       "         6.39766279, 5.45626502, 5.57619699, 5.40734016, 8.67602587]]),\n",
       " 0.5,\n",
       " array([1.26759175, 1.26979931, 1.25640868, 1.25307004, 1.2225891 ,\n",
       "        1.2321341 , 1.27106941, 1.24145057, 1.23547396, 1.22318813,\n",
       "        1.28336996, 1.22283262, 1.21745399, 1.26711444, 1.28006972,\n",
       "        1.2116214 , 1.22310131, 1.19774274, 1.29008258, 1.29601305]),\n",
       " array([1.98047515, 2.01667917, 2.05696715, 2.0355948 , 2.06026824,\n",
       "        2.06527884, 2.01876822, 2.04371438, 1.98449676, 1.99364347,\n",
       "        2.01135647, 2.03447703, 1.97250563, 2.03507021, 2.04601959,\n",
       "        2.10943852, 2.05700032, 2.00285086, 2.00662035, 2.0178761 ]))"
      ]
     },
     "execution_count": 68,
     "metadata": {},
     "output_type": "execute_result"
    }
   ],
   "source": [
    "Parameter_W, Parameter_W0, sigma, phi,mu_0, mu_1 = GDA_Parameter (Train)\n",
    "Parameter_W, Parameter_W0, sigma, phi,mu_0, mu_1"
   ]
  },
  {
   "cell_type": "code",
   "execution_count": 117,
   "id": "0e4dc49f",
   "metadata": {},
   "outputs": [],
   "source": [
    "def report(text, path):\n",
    "    text_file = open(str(path),'wt')\n",
    "    n=text_file.write(str(text))\n",
    "    text_file.close()"
   ]
  },
  {
   "cell_type": "markdown",
   "id": "e4ed8f39",
   "metadata": {},
   "source": [
    "# 2.b)"
   ]
  },
  {
   "cell_type": "code",
   "execution_count": 118,
   "id": "c485b548",
   "metadata": {},
   "outputs": [],
   "source": [
    "report(pd.DataFrame(Parameter_W).to_string(),\"DatasetsDS1/Assignment2_2134563_section1_sub-Question2_sub-sub-question-b_Patrameter_W.txt\")\n",
    "report(pd.DataFrame(Parameter_W0.reshape(1,1)).to_string(),\"DatasetsDS1/Assignment2_2134563_section1_sub-Question2_sub-sub-question-b_Patrameter_W0.txt\")\n",
    "# phi.to_csv(r,\"DatasetsDS1/Assignment2_2134563_section1_sub-Question2_sub-sub-question-b_phi.txt\") \n",
    "# pd.DataFrame.to_csv(\"DatasetsDS1/Assignment2_2134563_section1_sub-Question2_sub-sub-question-b_phi.txt\", phi, mode = 'float')\n",
    "report(pd.DataFrame(sigma).to_string(),\"DatasetsDS1/Assignment2_2134563_section1_sub-Question2_sub-sub-question-b_sigma.txt\")\n",
    "report(phi,\"DatasetsDS1/Assignment2_2134563_section1_sub-Question2_sub-sub-question-b_phi.txt\")\n",
    "report(pd.DataFrame(mu_0).to_string(),\"DatasetsDS1/Assignment2_2134563_section1_sub-Question2_sub-sub-question-b_mu_0.txt\")\n",
    "report(pd.DataFrame(mu_1).to_string(),\"DatasetsDS1/Assignment2_2134563_section1_sub-Question2_sub-sub-question-b_mu_1.txt\")"
   ]
  },
  {
   "cell_type": "code",
   "execution_count": 12,
   "id": "3d24b84d",
   "metadata": {},
   "outputs": [],
   "source": [
    "def sigmoid(x):\n",
    "  return 1 / (1 + math.exp(-x))"
   ]
  },
  {
   "cell_type": "code",
   "execution_count": 13,
   "id": "ed904240",
   "metadata": {},
   "outputs": [],
   "source": [
    "def GDA_accuracy(w, w_0, test_1, test_0):\n",
    "    Bad = 0.\n",
    "    false_N = 0.\n",
    "    true_P = 0.\n",
    "    false_P = 0.\n",
    "    true_N = 0.\n",
    "    pos_t = test_1[:,:20]\n",
    "    neg_t = test_0[:,:20]\n",
    "    for val in pos_t:\n",
    "        prob = sigmoid(np.dot(w.T, val)+w_0)\n",
    "        if(prob < 0.5):\n",
    "            Bad +=1\n",
    "            false_N +=1\n",
    "        else:\n",
    "            true_P +=1\n",
    "\n",
    "    for val in neg_t:\n",
    "        prob = sigmoid(np.matmul(w.T, val)+w_0)\n",
    "        if(prob > 0.5):\n",
    "            Bad +=1\n",
    "            false_P +=1\n",
    "        else:\n",
    "            true_N +=1\n",
    "    accuracy = (len(pos_t) + len(neg_t) - Bad)/(len(pos_t) + len(neg_t))\n",
    "    precision = true_P / (true_P + false_P)\n",
    "    recall = true_P / (true_P + false_N)\n",
    "    f_measure = (2 * precision * recall)/(precision + recall)\n",
    "    return accuracy, precision, recall, f_measure\n"
   ]
  },
  {
   "cell_type": "markdown",
   "id": "7c816ee0",
   "metadata": {},
   "source": [
    "# 2.a)"
   ]
  },
  {
   "cell_type": "code",
   "execution_count": 119,
   "id": "7b1b9bf3",
   "metadata": {},
   "outputs": [
    {
     "name": "stdout",
     "output_type": "stream",
     "text": [
      "(0.9475, 0.9323671497584541, 0.965, 0.9484029484029484)\n"
     ]
    }
   ],
   "source": [
    "print(GDA_accuracy(Parameter_W, Parameter_W0, test_1, test_0))"
   ]
  },
  {
   "cell_type": "code",
   "execution_count": 120,
   "id": "28bcc440",
   "metadata": {},
   "outputs": [],
   "source": [
    "acc, pre, rec, f_ = GDA_accuracy(Parameter_W, Parameter_W0, test_1, test_0)"
   ]
  },
  {
   "cell_type": "code",
   "execution_count": 163,
   "id": "4cc8b152",
   "metadata": {},
   "outputs": [],
   "source": [
    "report(acc,\"DatasetsDS1/Assignment2_2134563_section1_sub-Question2_sub-sub-question-a_accuracy.txt\")\n",
    "report(pre,\"DatasetsDS1/Assignment2_2134563_section1_sub-Question2_sub-sub-question-a_precision.txt\")\n",
    "report(rec,\"DatasetsDS1/Assignment2_2134563_section1_sub-Question2_sub-sub-question-a_recall.txt\")\n",
    "report(f_,\"DatasetsDS1/Assignment2_2134563_section1_sub-Question2_sub-sub-question-a_f_score.txt\")"
   ]
  },
  {
   "cell_type": "code",
   "execution_count": 15,
   "id": "bd086728",
   "metadata": {},
   "outputs": [
    {
     "name": "stdout",
     "output_type": "stream",
     "text": [
      "(0.96, 0.9577114427860697, 0.9625, 0.9600997506234414)\n"
     ]
    }
   ],
   "source": [
    "print(GDA_accuracy(Parameter_W, Parameter_W0, validation_1, validation_0))"
   ]
  },
  {
   "cell_type": "code",
   "execution_count": 16,
   "id": "d03c4a97",
   "metadata": {},
   "outputs": [],
   "source": [
    "Train_X = Train[:,:20]\n",
    "Train_Y = Train[:,-1]\n",
    "Train_XV = Val[:,:20]\n",
    "Train_YV = Val[:,-1]\n",
    "Test_X = Test[:,:20]\n",
    "Test_Y = Test[:,-1]"
   ]
  },
  {
   "cell_type": "code",
   "execution_count": 17,
   "id": "6f8942f1",
   "metadata": {},
   "outputs": [],
   "source": [
    "# calculate the Euclidean distance between two vectors\n",
    "def euclidean_distance(row1, row2):\n",
    "    return np.sqrt(np.sum(np.array(row1) - np.array(row2)) ** 2)"
   ]
  },
  {
   "cell_type": "code",
   "execution_count": 18,
   "id": "ef082953",
   "metadata": {},
   "outputs": [],
   "source": [
    "#Function to calculate KNN\n",
    "def predict_KNN(x_train, y_train , x_test, k):\n",
    "    op_labels = []\n",
    "     \n",
    "    #Loop through the Datapoints to be classified\n",
    "    for item in x_test: \n",
    "         \n",
    "        #Array to store distances\n",
    "        point_dist = []\n",
    "         \n",
    "        #Loop through each training Data\n",
    "        for j in range(len(x_train)): \n",
    "            distances = euclidean_distance(np.array(x_train[j,:]) , item) \n",
    "            #Calculating the distance\n",
    "            point_dist.append(distances) \n",
    "        point_dist = np.array(point_dist) \n",
    "         \n",
    "        #Sorting the array while preserving the index\n",
    "        #Keeping the first K datapoints\n",
    "        dist = np.argsort(point_dist)[:k] \n",
    "         \n",
    "        #Labels of the K datapoints from above\n",
    "        labels = y_train[dist]\n",
    "         \n",
    "        #Majority voting\n",
    "        lab = mode(labels) \n",
    "        lab = lab.mode[0]\n",
    "        op_labels.append(lab)\n",
    " \n",
    "    return op_labels"
   ]
  },
  {
   "cell_type": "code",
   "execution_count": 20,
   "id": "b0f9e0ea",
   "metadata": {},
   "outputs": [],
   "source": [
    "def tune_parameter(X_train, y_train, X_test, y_test, k_num):\n",
    "    accuracy = []\n",
    "    y_test = y_test\n",
    "    for i in range(1, k_num):\n",
    "        y_pred = predict_KNN(X_train,y_train,X_test, i)\n",
    "        accuracy.append(f1_score(y_test, y_pred))\n",
    "    return np.array(accuracy)"
   ]
  },
  {
   "cell_type": "code",
   "execution_count": 34,
   "id": "799e709b",
   "metadata": {},
   "outputs": [
    {
     "data": {
      "text/plain": [
       "array([1.        , 0.67109635, 0.76401674, 0.6244898 , 0.68321918,\n",
       "       0.61130221, 0.67029744, 0.5962554 , 0.64357262, 0.58101086,\n",
       "       0.63348798, 0.59386617, 0.62431637, 0.58133087, 0.62317022,\n",
       "       0.577614  , 0.6156406 , 0.57376305, 0.61108795])"
      ]
     },
     "execution_count": 34,
     "metadata": {},
     "output_type": "execute_result"
    }
   ],
   "source": [
    "accuracy_Train = []\n",
    "accuracy_Train = tune_parameter(Train_X, Train_Y, Train_X, Train_Y, 20)\n",
    "accuracy_Train"
   ]
  },
  {
   "cell_type": "code",
   "execution_count": 29,
   "id": "23475c74",
   "metadata": {},
   "outputs": [
    {
     "data": {
      "text/plain": [
       "array([0.54146341, 0.35135135, 0.54931336, 0.44744745, 0.55324357,\n",
       "       0.47807638, 0.54501801, 0.49375867, 0.57177616, 0.51771117,\n",
       "       0.56734207, 0.51595745, 0.5748503 , 0.52918288, 0.57280385,\n",
       "       0.5078534 , 0.55263158, 0.50960307, 0.55155875, 0.51898734,\n",
       "       0.53558504, 0.5083014 , 0.54323995, 0.52129032, 0.53742331,\n",
       "       0.52442159, 0.53251534, 0.51596424, 0.54523227, 0.51918159,\n",
       "       0.545676  , 0.52405063, 0.54434994, 0.52858958, 0.54634146,\n",
       "       0.52096569, 0.53855569, 0.51015228, 0.53694581, 0.51767677,\n",
       "       0.54187192, 0.5184244 , 0.54007398, 0.52978454, 0.54320988,\n",
       "       0.52591656, 0.54366544, 0.52658228, 0.54567901])"
      ]
     },
     "execution_count": 29,
     "metadata": {},
     "output_type": "execute_result"
    }
   ],
   "source": [
    "accuracy_Val = []\n",
    "accuracy_Val = tune_parameter(Train_X, Train_Y, Train_XV, Train_YV, 50)\n",
    "accuracy_Val"
   ]
  },
  {
   "cell_type": "code",
   "execution_count": 55,
   "id": "f9352485",
   "metadata": {},
   "outputs": [
    {
     "data": {
      "image/png": "[encoded data removed]",
      "text/plain": [
       "<Figure size 432x288 with 1 Axes>"
      ]
     },
     "metadata": {
      "needs_background": "light"
     },
     "output_type": "display_data"
    }
   ],
   "source": [
    "x = np.arange(1, 50)\n",
    "# y_train = accuracy_Train\n",
    "y_val = accuracy_Val\n",
    "# plt.plot(x, y_train, color=\"skyblue\")\n",
    "plt.scatter(x, y_val, color=\"blue\")\n",
    "plt.title(\"F1-score VS K\")\n",
    "plt.ylabel('F1-score')\n",
    "plt.xlabel('K')\n",
    "plt.show()"
   ]
  },
  {
   "cell_type": "code",
   "execution_count": 33,
   "id": "35f5acad",
   "metadata": {},
   "outputs": [
    {
     "name": "stdout",
     "output_type": "stream",
     "text": [
      "              precision    recall  f1-score   support\n",
      "\n",
      "     class 0       0.52      0.61      0.56       400\n",
      "     class 1       0.52      0.42      0.47       400\n",
      "\n",
      "    accuracy                           0.52       800\n",
      "   macro avg       0.52      0.52      0.51       800\n",
      "weighted avg       0.52      0.52      0.51       800\n",
      "\n"
     ]
    }
   ],
   "source": [
    "y_pred = predict_KNN(Train[:,:20],Train[:,-1],Test[:,:20] , 12)\n",
    "#Checking the accuracy\n",
    "target_names = ['class 0', 'class 1']\n",
    "GDA_classification_report=classification_report(Test[:,-1], y_pred, target_names=target_names)\n",
    "print(GDA_classification_report)"
   ]
  },
  {
   "cell_type": "code",
   "execution_count": 122,
   "id": "5ab168bd",
   "metadata": {},
   "outputs": [
    {
     "data": {
      "text/plain": [
       "array([[245, 155],\n",
       "       [230, 170]], dtype=int64)"
      ]
     },
     "execution_count": 122,
     "metadata": {},
     "output_type": "execute_result"
    }
   ],
   "source": [
    "confusion_matrix(Test[:,-1], y_pred)"
   ]
  },
  {
   "cell_type": "markdown",
   "id": "de78fc8d",
   "metadata": {},
   "source": [
    "# 3.b)"
   ]
  },
  {
   "cell_type": "code",
   "execution_count": 172,
   "id": "e7d89df8",
   "metadata": {},
   "outputs": [],
   "source": [
    "report(GDA_classification_report,\"DatasetsDS1/Assignment2_2134563_section1_sub-Question3_sub-sub-question-b_accuracy.txt\")"
   ]
  },
  {
   "cell_type": "code",
   "execution_count": 35,
   "id": "629d917c",
   "metadata": {},
   "outputs": [
    {
     "data": {
      "text/plain": [
       "(20,)"
      ]
     },
     "execution_count": 35,
     "metadata": {},
     "output_type": "execute_result"
    }
   ],
   "source": [
    "mean_1_1 = np.genfromtxt('Datasets/DS2_c1_m1.txt',delimiter=',')\n",
    "mean_1_2 = np.genfromtxt('Datasets/DS2_c1_m2.txt',delimiter=',')\n",
    "mean_1_3 = np.genfromtxt('Datasets/DS2_c1_m3.txt',delimiter=',')\n",
    "mean_1_1.shape"
   ]
  },
  {
   "cell_type": "code",
   "execution_count": 36,
   "id": "85c81b59",
   "metadata": {},
   "outputs": [
    {
     "data": {
      "text/plain": [
       "(20,)"
      ]
     },
     "execution_count": 36,
     "metadata": {},
     "output_type": "execute_result"
    }
   ],
   "source": [
    "mean_2_1 = np.genfromtxt('Datasets/DS2_c2_m1.txt',delimiter=',')\n",
    "mean_2_2 = np.genfromtxt('Datasets/DS2_c2_m2.txt',delimiter=',')\n",
    "mean_2_3 = np.genfromtxt('Datasets/DS2_c2_m3.txt',delimiter=',')\n",
    "mean_2_1.shape"
   ]
  },
  {
   "cell_type": "code",
   "execution_count": 48,
   "id": "fd2522bc",
   "metadata": {},
   "outputs": [
    {
     "data": {
      "text/plain": [
       "(20, 20)"
      ]
     },
     "execution_count": 48,
     "metadata": {},
     "output_type": "execute_result"
    }
   ],
   "source": [
    "Cov_M1 = np.genfromtxt('Datasets/DS2_Cov1.txt',delimiter=',')\n",
    "Cov_M2 = np.genfromtxt('Datasets/DS2_Cov2.txt',delimiter=',')\n",
    "Cov_M3 = np.genfromtxt('Datasets/DS2_Cov3.txt',delimiter=',')\n",
    "Cov_M1.shape"
   ]
  },
  {
   "cell_type": "code",
   "execution_count": 51,
   "id": "cb462876",
   "metadata": {},
   "outputs": [],
   "source": [
    "class_1 = np.concatenate((np.random.multivariate_normal(mean_1_1, Cov_M1, 200), np.random.multivariate_normal(mean_1_2, Cov_M2, 840), np.random.multivariate_normal(mean_1_3, Cov_M3, 960)))"
   ]
  },
  {
   "cell_type": "code",
   "execution_count": 53,
   "id": "60889593",
   "metadata": {},
   "outputs": [],
   "source": [
    "class_2 = np.concatenate((np.random.multivariate_normal(mean_2_1, Cov_M1, 200), np.random.multivariate_normal(mean_2_2, Cov_M2, 840), np.random.multivariate_normal(mean_2_3, Cov_M3, 960)))"
   ]
  },
  {
   "cell_type": "code",
   "execution_count": 58,
   "id": "2b59e741",
   "metadata": {},
   "outputs": [
    {
     "data": {
      "text/plain": [
       "(4000, 21)"
      ]
     },
     "execution_count": 58,
     "metadata": {},
     "output_type": "execute_result"
    }
   ],
   "source": [
    "# Add an extract column to all the sample\n",
    "N = 2000\n",
    "DS2 = np.concatenate((np.c_[ class_1, np.ones(N) ] ,np.c_[ class_2, np.zeros(N) ]))\n",
    "DS2.shape"
   ]
  },
  {
   "cell_type": "code",
   "execution_count": 133,
   "id": "121f4aee",
   "metadata": {},
   "outputs": [],
   "source": [
    "class_P = np.c_[ class_1, np.ones(N) ]\n",
    "class_N = np.c_[ class_2, np.zeros(N) ]"
   ]
  },
  {
   "cell_type": "code",
   "execution_count": 134,
   "id": "26082470",
   "metadata": {},
   "outputs": [],
   "source": [
    "size = DS2.shape[0]*6/10\n",
    "size_1 = class_P.shape[0]*6/10\n",
    "size_2 = class_N.shape[0]*6/10"
   ]
  },
  {
   "cell_type": "code",
   "execution_count": 135,
   "id": "17d55a73",
   "metadata": {},
   "outputs": [
    {
     "data": {
      "text/plain": [
       "((1200, 21), (400, 21), (400, 21))"
      ]
     },
     "execution_count": 135,
     "metadata": {},
     "output_type": "execute_result"
    }
   ],
   "source": [
    "Train_DS2_P, Val_DS2_P, Test_DS2_P = class_P[:int(size_1),:], class_P[int(size_1):int(size_1)+400,:], class_P[int(size_1)+400:,:]\n",
    "Train_DS2_P.shape, Val_DS2_P.shape, Test_DS2_P.shape"
   ]
  },
  {
   "cell_type": "code",
   "execution_count": 137,
   "id": "3ecf9956",
   "metadata": {},
   "outputs": [
    {
     "data": {
      "text/plain": [
       "((1200, 21), (400, 21), (400, 21))"
      ]
     },
     "execution_count": 137,
     "metadata": {},
     "output_type": "execute_result"
    }
   ],
   "source": [
    "Train_DS2_N, Val_DS2_N, Test_DS2_N = class_N[:int(size_2),:], class_N[int(size_2):int(size_2)+400,:], class_N[int(size_2)+400:,:]\n",
    "Train_DS2_N.shape, Val_DS2_N.shape, Test_DS2_N.shape"
   ]
  },
  {
   "cell_type": "code",
   "execution_count": 140,
   "id": "0b25593b",
   "metadata": {},
   "outputs": [],
   "source": [
    "Test_DS2 = np.concatenate((Test_DS2_N, Test_DS2_P))\n",
    "Val_DS2 = np.concatenate((Val_DS2_N, Val_DS2_P))\n",
    "Train_DS2 = np.concatenate((Train_DS2_N,Train_DS2_P))"
   ]
  },
  {
   "cell_type": "code",
   "execution_count": 145,
   "id": "70ea4f83",
   "metadata": {},
   "outputs": [
    {
     "data": {
      "text/plain": [
       "((2400, 21), (800, 21), (800, 21))"
      ]
     },
     "execution_count": 145,
     "metadata": {},
     "output_type": "execute_result"
    }
   ],
   "source": [
    "Train_DS2.shape, Val_DS2.shape, Test_DS2.shape"
   ]
  },
  {
   "cell_type": "markdown",
   "id": "7d247af3",
   "metadata": {},
   "source": [
    "# 4"
   ]
  },
  {
   "cell_type": "code",
   "execution_count": 146,
   "id": "a3b76bd1",
   "metadata": {},
   "outputs": [],
   "source": [
    "np.savetxt(\"DatasetsDS1/DS2_Test.csv\", Test_DS2, delimiter=\",\")\n",
    "np.savetxt(\"DatasetsDS1/DS2_Val.csv\", Val_DS2, delimiter=\",\")\n",
    "np.savetxt(\"DatasetsDS1/DS2_Train.csv\", Train_DS2, delimiter=\",\")\n",
    "np.savetxt(\"DatasetsDS1/DS2.csv\", DS2, delimiter=\",\")"
   ]
  },
  {
   "cell_type": "code",
   "execution_count": 147,
   "id": "acf289cf",
   "metadata": {},
   "outputs": [
    {
     "data": {
      "text/plain": [
       "((400, 21), (400, 21))"
      ]
     },
     "execution_count": 147,
     "metadata": {},
     "output_type": "execute_result"
    }
   ],
   "source": [
    "Test_DS2_N, Test_DS2_P = np.array_split(Test_DS2, 2)\n",
    "Test_DS2_N.shape, Test_DS2_P.shape"
   ]
  },
  {
   "cell_type": "markdown",
   "id": "f3bc6810",
   "metadata": {},
   "source": [
    "# 5.1b)"
   ]
  },
  {
   "cell_type": "code",
   "execution_count": 150,
   "id": "aea810de",
   "metadata": {},
   "outputs": [],
   "source": [
    "Parameter_WDS2, Parameter_W0DS2, sigmaDS2, phiDS2, mu_0DS2, mu_1DS2 = GDA_Parameter (Train_DS2)"
   ]
  },
  {
   "cell_type": "code",
   "execution_count": 174,
   "id": "9b9ef9db",
   "metadata": {},
   "outputs": [
    {
     "data": {
      "text/plain": [
       "(array([-14.51089977,   8.53301869,   5.31942223,   3.065962  ,\n",
       "          9.79150056,   4.5956817 , -16.86631745,  24.22450509,\n",
       "         29.12842965,  -9.31624337,  13.20600686,  12.03573062,\n",
       "        -15.3430904 , -12.93508174,   5.69320012, -13.07862723,\n",
       "        -29.29098078,   6.82786823,   0.41861648,   4.99543732]),\n",
       " -27.051553944107543,\n",
       " array([[8.22133136, 5.76825745, 6.56167549, 5.5789665 , 6.20271166,\n",
       "         6.5062709 , 4.97206   , 5.72150713, 5.30619931, 5.6871412 ,\n",
       "         4.16196197, 5.48655254, 7.63174348, 6.2888247 , 6.51824858,\n",
       "         6.4424403 , 6.14096207, 6.01331498, 5.87009845, 6.56196641],\n",
       "        [5.76825745, 6.93961029, 5.62002449, 4.61998733, 5.73414022,\n",
       "         5.75202171, 4.54263409, 4.07999252, 4.35219326, 5.2432717 ,\n",
       "         3.55111305, 4.71567391, 6.20401893, 5.29692784, 5.7306298 ,\n",
       "         5.46458785, 5.79120486, 5.25595873, 5.50202449, 5.76247059],\n",
       "        [6.56167549, 5.62002449, 7.7378969 , 5.32534504, 6.14370613,\n",
       "         6.93770383, 4.9032405 , 5.11690704, 5.09995049, 5.41428545,\n",
       "         3.45684711, 4.89011448, 6.87831371, 5.44024146, 6.54203719,\n",
       "         6.35728515, 6.48934508, 5.30332064, 4.9700443 , 5.65516162],\n",
       "        [5.5789665 , 4.61998733, 5.32534504, 6.22744449, 5.61159107,\n",
       "         4.85798299, 3.99430086, 4.69931902, 3.70932127, 4.56510765,\n",
       "         2.96428282, 4.42755002, 6.36112347, 5.19295767, 5.24779043,\n",
       "         5.48973072, 5.02391618, 4.92240018, 4.22514216, 6.33997469],\n",
       "        [6.20271166, 5.73414022, 6.14370613, 5.61159107, 7.33667636,\n",
       "         5.72457199, 5.28304106, 4.63071728, 4.94623617, 5.48328272,\n",
       "         4.31497236, 5.2377642 , 6.66730017, 6.17849403, 6.37265201,\n",
       "         6.56440607, 6.19729058, 5.48171857, 5.68564344, 6.26595097],\n",
       "        [6.5062709 , 5.75202171, 6.93770383, 4.85798299, 5.72457199,\n",
       "         7.01941682, 4.72333943, 5.10485419, 4.97219273, 5.63337391,\n",
       "         3.20340436, 4.9855143 , 6.81718128, 5.22398613, 6.18457375,\n",
       "         6.30939932, 6.12868965, 5.2238167 , 5.02472136, 5.72897055],\n",
       "        [4.97206   , 4.54263409, 4.9032405 , 3.99430086, 5.28304106,\n",
       "         4.72333943, 5.36983018, 4.05547177, 4.16625066, 4.60715954,\n",
       "         3.19374155, 4.4909045 , 5.04152751, 4.37226027, 5.01433461,\n",
       "         5.53538709, 4.53365146, 3.94472356, 4.83245035, 4.32961155],\n",
       "        [5.72150713, 4.07999252, 5.11690704, 4.69931902, 4.63071728,\n",
       "         5.10485419, 4.05547177, 6.11988335, 3.77332363, 5.10940782,\n",
       "         2.70949933, 4.9638333 , 6.47290284, 5.39181212, 5.19849422,\n",
       "         6.39671155, 4.7099775 , 5.16754509, 4.96252456, 4.92815646],\n",
       "        [5.30619931, 4.35219326, 5.09995049, 3.70932127, 4.94623617,\n",
       "         4.97219273, 4.16625066, 3.77332363, 5.11709418, 4.95552761,\n",
       "         3.28971349, 4.26689945, 5.50587619, 4.85980893, 5.20218095,\n",
       "         5.40299285, 5.25908573, 4.35982056, 4.44292698, 4.56514914],\n",
       "        [5.6871412 , 5.2432717 , 5.41428545, 4.56510765, 5.48328272,\n",
       "         5.63337391, 4.60715954, 5.10940782, 4.95552761, 7.37992533,\n",
       "         3.57932841, 4.94942162, 7.27389159, 5.51523259, 5.38080585,\n",
       "         6.26214632, 5.04031678, 5.60689361, 4.82614475, 5.84982661],\n",
       "        [4.16196197, 3.55111305, 3.45684711, 2.96428282, 4.31497236,\n",
       "         3.20340436, 3.19374155, 2.70949933, 3.28971349, 3.57932841,\n",
       "         3.46769419, 3.07752736, 4.03129743, 4.10168529, 3.80743517,\n",
       "         3.88737641, 3.77873363, 3.42962134, 3.9214832 , 3.80072112],\n",
       "        [5.48655254, 4.71567391, 4.89011448, 4.42755002, 5.2377642 ,\n",
       "         4.9855143 , 4.4909045 , 4.9638333 , 4.26689945, 4.94942162,\n",
       "         3.07752736, 5.35868569, 6.29244726, 5.22477407, 5.09122502,\n",
       "         5.80039683, 5.18880781, 5.10291523, 5.17602273, 4.91781571],\n",
       "        [7.63174348, 6.20401893, 6.87831371, 6.36112347, 6.66730017,\n",
       "         6.81718128, 5.04152751, 6.47290284, 5.50587619, 7.27389159,\n",
       "         4.03129743, 6.29244726, 9.67493794, 6.71837766, 6.77517741,\n",
       "         7.01910607, 6.40385105, 6.75177925, 6.23578805, 7.9951538 ],\n",
       "        [6.2888247 , 5.29692784, 5.44024146, 5.19295767, 6.17849403,\n",
       "         5.22398613, 4.37226027, 5.39181212, 4.85980893, 5.51523259,\n",
       "         4.10168529, 5.22477407, 6.71837766, 7.21143115, 6.21440034,\n",
       "         6.57136705, 5.90616216, 5.94144555, 6.11960627, 6.03679422],\n",
       "        [6.51824858, 5.7306298 , 6.54203719, 5.24779043, 6.37265201,\n",
       "         6.18457375, 5.01433461, 5.19849422, 5.20218095, 5.38080585,\n",
       "         3.80743517, 5.09122502, 6.77517741, 6.21440034, 7.43803817,\n",
       "         7.57754789, 6.14295646, 5.49501651, 5.76172349, 6.30984679],\n",
       "        [6.4424403 , 5.46458785, 6.35728515, 5.48973072, 6.56440607,\n",
       "         6.30939932, 5.53538709, 6.39671155, 5.40299285, 6.26214632,\n",
       "         3.88737641, 5.80039683, 7.01910607, 6.57136705, 7.57754789,\n",
       "         9.62319438, 6.13496938, 6.2566121 , 5.9322731 , 6.39766279],\n",
       "        [6.14096207, 5.79120486, 6.48934508, 5.02391618, 6.19729058,\n",
       "         6.12868965, 4.53365146, 4.7099775 , 5.25908573, 5.04031678,\n",
       "         3.77873363, 5.18880781, 6.40385105, 5.90616216, 6.14295646,\n",
       "         6.13496938, 6.87311984, 5.45067923, 5.50917214, 5.45626502],\n",
       "        [6.01331498, 5.25595873, 5.30332064, 4.92240018, 5.48171857,\n",
       "         5.2238167 , 3.94472356, 5.16754509, 4.35982056, 5.60689361,\n",
       "         3.42962134, 5.10291523, 6.75177925, 5.94144555, 5.49501651,\n",
       "         6.2566121 , 5.45067923, 6.26432515, 5.09341108, 5.57619699],\n",
       "        [5.87009845, 5.50202449, 4.9700443 , 4.22514216, 5.68564344,\n",
       "         5.02472136, 4.83245035, 4.96252456, 4.44292698, 4.82614475,\n",
       "         3.9214832 , 5.17602273, 6.23578805, 6.11960627, 5.76172349,\n",
       "         5.9322731 , 5.50917214, 5.09341108, 6.5523494 , 5.40734016],\n",
       "        [6.56196641, 5.76247059, 5.65516162, 6.33997469, 6.26595097,\n",
       "         5.72897055, 4.32961155, 4.92815646, 4.56514914, 5.84982661,\n",
       "         3.80072112, 4.91781571, 7.9951538 , 6.03679422, 6.30984679,\n",
       "         6.39766279, 5.45626502, 5.57619699, 5.40734016, 8.67602587]]),\n",
       " 0.5,\n",
       " array([1.26759175, 1.26979931, 1.25640868, 1.25307004, 1.2225891 ,\n",
       "        1.2321341 , 1.27106941, 1.24145057, 1.23547396, 1.22318813,\n",
       "        1.28336996, 1.22283262, 1.21745399, 1.26711444, 1.28006972,\n",
       "        1.2116214 , 1.22310131, 1.19774274, 1.29008258, 1.29601305]),\n",
       " array([1.98047515, 2.01667917, 2.05696715, 2.0355948 , 2.06026824,\n",
       "        2.06527884, 2.01876822, 2.04371438, 1.98449676, 1.99364347,\n",
       "        2.01135647, 2.03447703, 1.97250563, 2.03507021, 2.04601959,\n",
       "        2.10943852, 2.05700032, 2.00285086, 2.00662035, 2.0178761 ]))"
      ]
     },
     "execution_count": 174,
     "metadata": {},
     "output_type": "execute_result"
    }
   ],
   "source": [
    "Parameter_WDS2, Parameter_W0DS2, sigmaDS2, phiDS2, mu_0DS2, mu_1DS2"
   ]
  },
  {
   "cell_type": "code",
   "execution_count": 166,
   "id": "8e6ffad8",
   "metadata": {},
   "outputs": [],
   "source": [
    "report(pd.DataFrame(Parameter_WDS2).to_string(),\"DatasetsDS1/Assignment2_2134563_section1_sub-Question5_sub-sub-question-1b_Patrameter_W.txt\")\n",
    "report(pd.DataFrame(Parameter_W0DS2.reshape(1,1)).to_string(),\"DatasetsDS1/Assignment2_2134563_section1_sub-Question5_sub-sub-question-1b_Patrameter_W0.txt\")\n",
    "# phi.to_csv(r,\"DatasetsDS1/Assignment2_2134563_section1_sub-Question2_sub-sub-question-b_phi.txt\") \n",
    "# pd.DataFrame.to_csv(\"DatasetsDS1/Assignment2_2134563_section1_sub-Question2_sub-sub-question-b_phi.txt\", phi, mode = 'float')\n",
    "report(pd.DataFrame(sigmaDS2).to_string(),\"DatasetsDS1/Assignment2_2134563_section1_sub-Question5_sub-sub-question-1b_sigma.txt\")\n",
    "report(phiDS2,\"DatasetsDS1/Assignment2_2134563_section1_sub-Question5_sub-sub-question-1b_phi.txt\")\n",
    "report(pd.DataFrame(mu_0DS2).to_string(),\"DatasetsDS1/Assignment2_2134563_section1_sub-Question5_sub-sub-question-1b_mu_0.txt\")\n",
    "report(pd.DataFrame(mu_1DS2).to_string(),\"DatasetsDS1/Assignment2_2134563_section1_sub-Question5_sub-sub-question-1b_mu_1.txt\")"
   ]
  },
  {
   "cell_type": "markdown",
   "id": "34bd26fb",
   "metadata": {},
   "source": [
    "# 5.1a)"
   ]
  },
  {
   "cell_type": "code",
   "execution_count": 151,
   "id": "651febda",
   "metadata": {
    "scrolled": true
   },
   "outputs": [
    {
     "name": "stdout",
     "output_type": "stream",
     "text": [
      "(0.50625, 0.5070821529745042, 0.4475, 0.4754316069057105)\n"
     ]
    }
   ],
   "source": [
    "print(GDA_accuracy(Parameter_WDS2, Parameter_W0DS2, Test_DS2_P, Test_DS2_N))"
   ]
  },
  {
   "cell_type": "code",
   "execution_count": 164,
   "id": "9183ebb5",
   "metadata": {},
   "outputs": [],
   "source": [
    "acc_DS2, pre_DS2, rec_DS2, f_DS2 = GDA_accuracy(Parameter_WDS2, Parameter_W0DS2, Test_DS2_P, Test_DS2_N)"
   ]
  },
  {
   "cell_type": "code",
   "execution_count": 165,
   "id": "db506f6c",
   "metadata": {},
   "outputs": [],
   "source": [
    "report(acc_DS2,\"DatasetsDS1/Assignment2_2134563_section1_sub-Question5_sub-sub-question-1a_accuracy.txt\")\n",
    "report(pre_DS2,\"DatasetsDS1/Assignment2_2134563_section1_sub-Question5_sub-sub-question-1a_precision.txt\")\n",
    "report(rec_DS2,\"DatasetsDS1/Assignment2_2134563_section1_sub-Question5_sub-sub-question-1a_recall.txt\")\n",
    "report(f_DS2,\"DatasetsDS1/Assignment2_2134563_section1_sub-Question5_sub-sub-question-1a_f_score.txt\")"
   ]
  },
  {
   "cell_type": "markdown",
   "id": "c002541f",
   "metadata": {},
   "source": [
    "# 5.2)"
   ]
  },
  {
   "cell_type": "code",
   "execution_count": 152,
   "id": "943ee5c1",
   "metadata": {},
   "outputs": [],
   "source": [
    "Train_XDS2 = Train_DS2[:,:20]\n",
    "Train_YDS2 = Train_DS2[:,-1]\n",
    "Train_XVDS2 = Val_DS2[:,:20]\n",
    "Train_YVDS2 = Val_DS2[:,-1]"
   ]
  },
  {
   "cell_type": "code",
   "execution_count": 153,
   "id": "8421cfa4",
   "metadata": {},
   "outputs": [
    {
     "data": {
      "text/plain": [
       "[]"
      ]
     },
     "execution_count": 153,
     "metadata": {},
     "output_type": "execute_result"
    }
   ],
   "source": [
    "accuracy_ValDS2 = []\n",
    "accuracy_ValDS2 = tune_parameter(Train_XDS2, Train_YDS2, Train_XVDS2, Train_YVDS2, 50)"
   ]
  },
  {
   "cell_type": "code",
   "execution_count": 161,
   "id": "03f65a0c",
   "metadata": {
    "scrolled": true
   },
   "outputs": [
    {
     "data": {
      "image/png": "[encoded data removed]",
      "text/plain": [
       "<Figure size 432x288 with 1 Axes>"
      ]
     },
     "metadata": {
      "needs_background": "light"
     },
     "output_type": "display_data"
    }
   ],
   "source": [
    "x_DS2 = np.arange(1, 50)\n",
    "# y_train = accuracy_Train\n",
    "y_val = accuracy_ValDS2\n",
    "# plt.plot(x, y_train, color=\"skyblue\")\n",
    "plt.scatter(x_DS2, y_val, color=\"blue\")\n",
    "plt.title(\"F1-score VS K\")\n",
    "plt.ylabel('F1-score')\n",
    "plt.xlabel('K')\n",
    "plt.show()"
   ]
  },
  {
   "cell_type": "markdown",
   "id": "7b2bdc5f",
   "metadata": {},
   "source": [
    "# 5.3)"
   ]
  },
  {
   "cell_type": "code",
   "execution_count": 169,
   "id": "ea743630",
   "metadata": {
    "scrolled": true
   },
   "outputs": [
    {
     "name": "stdout",
     "output_type": "stream",
     "text": [
      "              precision    recall  f1-score   support\n",
      "\n",
      "     class 0       0.48      0.51      0.50       400\n",
      "     class 1       0.48      0.46      0.47       400\n",
      "\n",
      "    accuracy                           0.48       800\n",
      "   macro avg       0.48      0.48      0.48       800\n",
      "weighted avg       0.48      0.48      0.48       800\n",
      "\n"
     ]
    }
   ],
   "source": [
    "y_pred_DS2 = predict_KNN(Train_XDS2,Train_YDS2,Test_DS2[:,:20] , 3)\n",
    "#Checking the accuracy\n",
    "target_names = ['class 0', 'class 1']\n",
    "GDA_classification_report_DS2=classification_report(Test_DS2[:,-1], y_pred_DS2, target_names=target_names)\n",
    "print(GDA_classification_report)"
   ]
  },
  {
   "cell_type": "code",
   "execution_count": 170,
   "id": "42be21be",
   "metadata": {},
   "outputs": [
    {
     "data": {
      "text/plain": [
       "array([[204, 196],\n",
       "       [217, 183]], dtype=int64)"
      ]
     },
     "execution_count": 170,
     "metadata": {},
     "output_type": "execute_result"
    }
   ],
   "source": [
    "confusion_matrix(Test_DS2[:,-1], y_pred_DS2)"
   ]
  },
  {
   "cell_type": "code",
   "execution_count": 173,
   "id": "d3b204ba",
   "metadata": {},
   "outputs": [],
   "source": [
    "report(GDA_classification_report_DS2,\"DatasetsDS1/Assignment2_2134563_section1_sub-Question5_sub-sub-question-3_accuracy.txt\")"
   ]
  }
 ],
 "metadata": {
  "kernelspec": {
   "display_name": "Python 3 (ipykernel)",
   "language": "python",
   "name": "python3"
  },
  "language_info": {
   "codemirror_mode": {
    "name": "ipython",
    "version": 3
   },
   "file_extension": ".py",
   "mimetype": "text/x-python",
   "name": "python",
   "nbconvert_exporter": "python",
   "pygments_lexer": "ipython3",
   "version": "3.7.11"
  }
 },
 "nbformat": 4,
 "nbformat_minor": 5
}
